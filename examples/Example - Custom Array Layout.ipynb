{
  "cells": [
    {
      "cell_type": "markdown",
      "metadata": {},
      "source": [
        "# Custom Array Cabling Layout Example\n",
        "## Dudgeon Windfarm\n",
        "\n",
        "\n",
        "#### Author: Rob Hammond\n",
        "#### Date: 4 May 2020\n",
        "#### Update: 30 March 2021\n",
        "\n",
        "\n",
        "\n",
        "##### Data source: Dudgeon Wind Farm turbine locations from their publicly available [Call to Mariners](http://dudgeonoffshorewind.co.uk/news/notices/Dudgeon%20-%20Notice%20to%20Mariners%20wk25.pdf)\n",
        "\n",
        "\n",
        "This notebook will guide you through four of the main use cases on using the custom array cable layout functionality of `ORBIT` for when custom turbine locations, cable lengths or burial speeds are needed.\n",
        "\n",
        "**Note:** All array cable layout files are CSVs, which can be edited in Microsoft Excel.\n",
        "\n",
        "**Update:** This example was updated to work with ORBIT >= 1.0.0"
      ]
    },
    {
      "cell_type": "code",
      "execution_count": 1,
      "metadata": {},
      "outputs": [
        {
          "name": "stdout",
          "output_type": "stream",
          "text": [
            "ORBIT library intialized at '../library'\n"
          ]
        }
      ],
      "source": [
        "import os\n",
        "from copy import deepcopy\n",
        "from pprint import pprint\n",
        "\n",
        "import numpy as np\n",
        "import pandas as pd\n",
        "\n",
        "import ORBIT\n",
        "from ORBIT import ProjectManager\n",
        "from ORBIT.core import library\n",
        "from ORBIT.phases.design import CustomArraySystemDesign\n",
        "from ORBIT.phases.install import ArrayCableInstallation\n",
        "\n",
        "# initialize the library location\n",
        "library.initialize_library(\"../library\")"
      ]
    },
    {
      "cell_type": "markdown",
      "metadata": {},
      "source": [
        "## Contents\n",
        " - [Overview](#overview): How to use the inputs\n",
        " - [Case 1](#case_1): Needing to know what to collect\n",
        " - [Case 2](#case_2): Coordinates with a straight-line distance for cable length\n",
        " - [Case 3](#case_3): Using distance from a reference point\n",
        " - [Case 4](#case_4): Adjusting for exclusions in the cable paths\n",
        " - [Case 5](#case_5): Fully customizing the cabling parameters\n",
        " - [Applying the cases to `ArrayCableInstallation`](#running)\n",
        " - [Using `ProjectManager` to model the entire process](#project_manager)"
      ]
    },
    {
      "cell_type": "markdown",
      "metadata": {},
      "source": [
        "<a id=\"overview\"></a>\n",
        "## Overview\n",
        "\n",
        "#### Before starting it is important to demonstrate how to create a configuration file or how to set up a customized layout file.\n",
        "\n",
        "In the highest level of this repository there is a folder called `library` where all of the example data for this notebook is going to be stored. While any folder could be used, the folder structure must be strictly adhered to. More details on this structure can be found [here](https://github.com/WISDEM/ORBIT/blob/master/ORBIT/library.py#L9-L23).\n",
        "\n",
        "For this example of how to setup a configuration, I will be using the file `<path>/ORBIT/library/project/config/example_custom_array_simple.yaml`. YAML' files are used for configuration throughout this codebase due their ease of encoding and loading `Python` data types.\n",
        "\n",
        "Now, we will load the configuration file and display it below."
      ]
    },
    {
      "cell_type": "code",
      "execution_count": 2,
      "metadata": {},
      "outputs": [
        {
          "name": "stdout",
          "output_type": "stream",
          "text": [
            "{'array_system_design': {'cables': ['XLPE_400mm_33kV', 'XLPE_630mm_33kV'],\n",
            "                         'location_data': 'dudgeon_array'},\n",
            " 'plant': {'layout': 'custom', 'num_turbines': 67},\n",
            " 'site': {'depth': 20},\n",
            " 'turbine': 'SWT_6MW_154m_110m'}\n"
          ]
        }
      ],
      "source": [
        "config = library.extract_library_specs(\"config\", \"example_custom_array_simple\")\n",
        "pprint(config)"
      ]
    },
    {
      "cell_type": "markdown",
      "metadata": {},
      "source": [
        "#### A couple of things to notice in the configuration file for a custom array layout:\n",
        "```python\n",
        "{\n",
        "    # Array cabling system specific data configuration\n",
        "    'array_system_design': {\n",
        "        \n",
        "        # A list of array cable YAML files that can be found in library/project/cables/ as\n",
        "        # XLPE_400mm_33kV.yaml and XLPE_630mm_33kV.yaml\n",
        "        'cables': ['XLPE_400mm_33kV', 'XLPE_630mm_33kV'],\n",
        "        \n",
        "        # A YAML file named dudgeon_array.csv found in the same location\n",
        "        'location_data': 'dudgeon_array'},\n",
        "    \n",
        "    # We are using a custom layout and the Dudgeon contains 67 turbines\n",
        "    'plant': {'layout': 'custom', 'num_turbines': 67},\n",
        "    \n",
        "    # The average water depth at the site\n",
        "    'site': {'depth': 20},\n",
        "    \n",
        "    # Turbine details (optional for custom)\n",
        "    'turbine': 'SWT_6MW_154m_110m'\n",
        "}\n",
        "```\n",
        "\n",
        "#### Now, let's see what is contained within the additional files from the configuration dictionary\n",
        "\n",
        "It should be noted that running the design class extracts the data from the files automatically to produce the below output."
      ]
    },
    {
      "cell_type": "code",
      "execution_count": 3,
      "metadata": {},
      "outputs": [
        {
          "name": "stdout",
          "output_type": "stream",
          "text": [
            "{'array_system_design': {'cables': {'XLPE_400mm_33kV': {'ac_resistance': 0.06,\n",
            "                                                        'capacitance': 225,\n",
            "                                                        'conductor_size': 400,\n",
            "                                                        'cost_per_km': 300000,\n",
            "                                                        'current_capacity': 600,\n",
            "                                                        'inductance': 0.375,\n",
            "                                                        'linear_density': 35,\n",
            "                                                        'name': 'XLPE_400mm_33kV',\n",
            "                                                        'rated_voltage': 33},\n",
            "                                    'XLPE_630mm_33kV': {'ac_resistance': 0.04,\n",
            "                                                        'capacitance': 300,\n",
            "                                                        'conductor_size': 630,\n",
            "                                                        'cost_per_km': 450000,\n",
            "                                                        'current_capacity': 700,\n",
            "                                                        'inductance': 0.35,\n",
            "                                                        'linear_density': 42.5,\n",
            "                                                        'name': 'XLPE_630mm_33kV',\n",
            "                                                        'rated_voltage': 33}},\n",
            "                         'location_data': 'dudgeon_array'},\n",
            " 'plant': {'layout': 'custom', 'num_turbines': 67},\n",
            " 'site': {'depth': 20},\n",
            " 'turbine': {'blade': {'deck_space': 100, 'length': 75, 'mass': 100},\n",
            "             'hub_height': 110,\n",
            "             'nacelle': {'deck_space': 200, 'mass': 360},\n",
            "             'name': 'SWT-6MW-154',\n",
            "             'rated_windspeed': 13,\n",
            "             'rotor_diameter': 154,\n",
            "             'tower': {'deck_space': 36,\n",
            "                       'length': 110,\n",
            "                       'mass': 150,\n",
            "                       'sections': 2},\n",
            "             'turbine_rating': 6}}\n"
          ]
        },
        {
          "name": "stderr",
          "output_type": "stream",
          "text": [
            "UserWarning: /Users/jnunemak/Fun/repos/ORBIT/ORBIT/phases/design/array_system_design.py:881\n",
            "Missing data in columns ['cable_length', 'bury_speed']; all values will be calculated."
          ]
        }
      ],
      "source": [
        "array = CustomArraySystemDesign(config)\n",
        "array.run()\n",
        "pprint(array.config)"
      ]
    },
    {
      "cell_type": "markdown",
      "metadata": {},
      "source": [
        "#### When the `dudgeon_array.csv` file is loaded, it is not passed back into the configuration dictionary, so let's dissect this file:\n",
        "\n",
        "1. The file must have all of the columns shown below (not case-sensitive).\n",
        " - All columns must be completely filled out for turbines (note on substation(s) following).\n",
        " - `cable_length` and `bury_speed` are optional and if these are not known, simply fill with a 0.\n",
        "2. A latitude and longitude must be provided for all turbines and substation(s). This can either be a WGS-84 decimal coordinate or a distance-based \"coordinate\" where latitude and longitude are the distances from some reference point, in kilometers; see [Case 3](#case_3) for more details.\n",
        "2. Define the offshore substation(s)\n",
        " - For each substation,  the values in columns `id` and `substation_id` _must_ be the same.\n",
        " - There is no need to fill in any data for the columns `String`, `Order`, `cable_length` and `bury_speed`.\n",
        "3. Define the turbines\n",
        " - Each turbine should have a reference to its substation in the `substation_id` column.\n",
        "     - In this example, there is one substaion, so all of the values are \"DOW_OSS\".\n",
        " - `string` and `order` should be 0-indexed for their ordering and not skip any numbers.\n",
        "     - In this example, the strings are ordered in clock-wise order starting from the string with turbines labeled with an \"A\" in the [Call to Mariners](http://dudgeonoffshorewind.co.uk/news/notices/Dudgeon%20-%20Notice%20to%20Mariners%20wk25.pdf)\n",
        " - The ordering on a string should travel from substation to the farthest end of the cable"
      ]
    },
    {
      "cell_type": "code",
      "execution_count": 4,
      "metadata": {},
      "outputs": [
        {
          "data": {
            "text/html": [
              "<div>\n",
              "<style scoped>\n",
              "    .dataframe tbody tr th:only-of-type {\n",
              "        vertical-align: middle;\n",
              "    }\n",
              "\n",
              "    .dataframe tbody tr th {\n",
              "        vertical-align: top;\n",
              "    }\n",
              "\n",
              "    .dataframe thead th {\n",
              "        text-align: right;\n",
              "    }\n",
              "</style>\n",
              "<table border=\"1\" class=\"dataframe\">\n",
              "  <thead>\n",
              "    <tr style=\"text-align: right;\">\n",
              "      <th></th>\n",
              "      <th>id</th>\n",
              "      <th>substation_id</th>\n",
              "      <th>name</th>\n",
              "      <th>Longitude</th>\n",
              "      <th>Latitude</th>\n",
              "      <th>String</th>\n",
              "      <th>Order</th>\n",
              "      <th>cable_length</th>\n",
              "      <th>bury_speed</th>\n",
              "    </tr>\n",
              "  </thead>\n",
              "  <tbody>\n",
              "    <tr>\n",
              "      <th>1</th>\n",
              "      <td>DAE_A1</td>\n",
              "      <td>DOW_OSS</td>\n",
              "      <td>DAE_A1</td>\n",
              "      <td>1.358783</td>\n",
              "      <td>53.243950</td>\n",
              "      <td>0</td>\n",
              "      <td>0</td>\n",
              "      <td>0</td>\n",
              "      <td>0</td>\n",
              "    </tr>\n",
              "    <tr>\n",
              "      <th>2</th>\n",
              "      <td>DAD_A2</td>\n",
              "      <td>DOW_OSS</td>\n",
              "      <td>DAD_A2</td>\n",
              "      <td>1.349033</td>\n",
              "      <td>53.248467</td>\n",
              "      <td>0</td>\n",
              "      <td>1</td>\n",
              "      <td>0</td>\n",
              "      <td>0</td>\n",
              "    </tr>\n",
              "    <tr>\n",
              "      <th>3</th>\n",
              "      <td>DAC_A3</td>\n",
              "      <td>DOW_OSS</td>\n",
              "      <td>DAC_A3</td>\n",
              "      <td>1.339283</td>\n",
              "      <td>53.252983</td>\n",
              "      <td>0</td>\n",
              "      <td>2</td>\n",
              "      <td>0</td>\n",
              "      <td>0</td>\n",
              "    </tr>\n",
              "    <tr>\n",
              "      <th>4</th>\n",
              "      <td>DAB_A4</td>\n",
              "      <td>DOW_OSS</td>\n",
              "      <td>DAB_A4</td>\n",
              "      <td>1.329550</td>\n",
              "      <td>53.257500</td>\n",
              "      <td>0</td>\n",
              "      <td>3</td>\n",
              "      <td>0</td>\n",
              "      <td>0</td>\n",
              "    </tr>\n",
              "    <tr>\n",
              "      <th>5</th>\n",
              "      <td>DAA_A5</td>\n",
              "      <td>DOW_OSS</td>\n",
              "      <td>DAA_A5</td>\n",
              "      <td>1.319800</td>\n",
              "      <td>53.262017</td>\n",
              "      <td>0</td>\n",
              "      <td>4</td>\n",
              "      <td>0</td>\n",
              "      <td>0</td>\n",
              "    </tr>\n",
              "    <tr>\n",
              "      <th>...</th>\n",
              "      <td>...</td>\n",
              "      <td>...</td>\n",
              "      <td>...</td>\n",
              "      <td>...</td>\n",
              "      <td>...</td>\n",
              "      <td>...</td>\n",
              "      <td>...</td>\n",
              "      <td>...</td>\n",
              "      <td>...</td>\n",
              "    </tr>\n",
              "    <tr>\n",
              "      <th>59</th>\n",
              "      <td>DAF_L2</td>\n",
              "      <td>DOW_OSS</td>\n",
              "      <td>DAF_L2</td>\n",
              "      <td>1.368533</td>\n",
              "      <td>53.239433</td>\n",
              "      <td>11</td>\n",
              "      <td>1</td>\n",
              "      <td>0</td>\n",
              "      <td>0</td>\n",
              "    </tr>\n",
              "    <tr>\n",
              "      <th>60</th>\n",
              "      <td>DAG_L3</td>\n",
              "      <td>DOW_OSS</td>\n",
              "      <td>DAG_L3</td>\n",
              "      <td>1.378250</td>\n",
              "      <td>53.234917</td>\n",
              "      <td>11</td>\n",
              "      <td>2</td>\n",
              "      <td>0</td>\n",
              "      <td>0</td>\n",
              "    </tr>\n",
              "    <tr>\n",
              "      <th>61</th>\n",
              "      <td>DAH_L4</td>\n",
              "      <td>DOW_OSS</td>\n",
              "      <td>DAH_L4</td>\n",
              "      <td>1.388000</td>\n",
              "      <td>53.230400</td>\n",
              "      <td>11</td>\n",
              "      <td>3</td>\n",
              "      <td>0</td>\n",
              "      <td>0</td>\n",
              "    </tr>\n",
              "    <tr>\n",
              "      <th>62</th>\n",
              "      <td>DAJ_L5</td>\n",
              "      <td>DOW_OSS</td>\n",
              "      <td>DAJ_L5</td>\n",
              "      <td>1.397750</td>\n",
              "      <td>53.225883</td>\n",
              "      <td>11</td>\n",
              "      <td>4</td>\n",
              "      <td>0</td>\n",
              "      <td>0</td>\n",
              "    </tr>\n",
              "    <tr>\n",
              "      <th>0</th>\n",
              "      <td>DOW_OSS</td>\n",
              "      <td>DOW_OSS</td>\n",
              "      <td>DOW_OSS</td>\n",
              "      <td>1.378767</td>\n",
              "      <td>53.264800</td>\n",
              "      <td></td>\n",
              "      <td></td>\n",
              "      <td></td>\n",
              "      <td></td>\n",
              "    </tr>\n",
              "  </tbody>\n",
              "</table>\n",
              "<p>68 rows \u00d7 9 columns</p>\n",
              "</div>"
            ],
            "text/plain": [
              "         id substation_id     name  Longitude   Latitude String Order  \\\n",
              "1    DAE_A1       DOW_OSS   DAE_A1   1.358783  53.243950      0     0   \n",
              "2    DAD_A2       DOW_OSS   DAD_A2   1.349033  53.248467      0     1   \n",
              "3    DAC_A3       DOW_OSS   DAC_A3   1.339283  53.252983      0     2   \n",
              "4    DAB_A4       DOW_OSS   DAB_A4   1.329550  53.257500      0     3   \n",
              "5    DAA_A5       DOW_OSS   DAA_A5   1.319800  53.262017      0     4   \n",
              "..      ...           ...      ...        ...        ...    ...   ...   \n",
              "59   DAF_L2       DOW_OSS   DAF_L2   1.368533  53.239433     11     1   \n",
              "60   DAG_L3       DOW_OSS   DAG_L3   1.378250  53.234917     11     2   \n",
              "61   DAH_L4       DOW_OSS   DAH_L4   1.388000  53.230400     11     3   \n",
              "62   DAJ_L5       DOW_OSS   DAJ_L5   1.397750  53.225883     11     4   \n",
              "0   DOW_OSS       DOW_OSS  DOW_OSS   1.378767  53.264800                \n",
              "\n",
              "   cable_length bury_speed  \n",
              "1             0          0  \n",
              "2             0          0  \n",
              "3             0          0  \n",
              "4             0          0  \n",
              "5             0          0  \n",
              "..          ...        ...  \n",
              "59            0          0  \n",
              "60            0          0  \n",
              "61            0          0  \n",
              "62            0          0  \n",
              "0                           \n",
              "\n",
              "[68 rows x 9 columns]"
            ]
          },
          "execution_count": 4,
          "metadata": {},
          "output_type": "execute_result"
        }
      ],
      "source": [
        "df = pd.read_csv(\"../library/cables/dudgeon_array.csv\").fillna(\"\")\n",
        "df.sort_values(by=[\"String\", \"Order\"])"
      ]
    },
    {
      "cell_type": "code",
      "execution_count": null,
      "metadata": {},
      "outputs": [],
      "source": []
    },
    {
      "cell_type": "markdown",
      "metadata": {},
      "source": [
        "<a id=\"case_1\"></a>\n",
        "## Case 1: Needing to know what to collect\n",
        "\n",
        "Here we know that we need to have a csv created to input all the data but need to see what data is necessary to collect.\n",
        "\n",
        "\n",
        "First, we need to load in the configuration dictionary. Then, we will create a \"starter\" file that can be filled in for a new project, which will be saved in the \"library\"."
      ]
    },
    {
      "cell_type": "code",
      "execution_count": 5,
      "metadata": {},
      "outputs": [
        {
          "name": "stdout",
          "output_type": "stream",
          "text": [
            "{'array_system_design': {'cables': ['XLPE_400mm_33kV', 'XLPE_630mm_33kV'],\n",
            "                         'location_data': 'dudgeon_array_no_data'},\n",
            " 'plant': {'layout': 'custom', 'num_turbines': 67},\n",
            " 'site': {'depth': 20},\n",
            " 'turbine': 'SWT_6MW_154m_110m'}\n",
            "\n",
            "+--------------------------------+\n",
            "|     PROJECT SPECIFICATIONS     |\n",
            "+---------------------------+----+\n",
            "| N turbines full string    |  6 |\n",
            "| N full strings            | 11 |\n",
            "| N turbines partial string |  1 |\n",
            "| N partial strings         |  1 |\n",
            "+---------------------------+----+\n",
            "Saving custom array CSV to: <library_path>/cables/dudgeon_array_no_data.csv\n"
          ]
        },
        {
          "name": "stdin",
          "output_type": "stream",
          "text": [
            "../library/cables/dudgeon_array_no_data.csv already exists, overwrite [y/n]? y\n"
          ]
        },
        {
          "name": "stdout",
          "output_type": "stream",
          "text": [
            "Save complete!\n"
          ]
        }
      ],
      "source": [
        "config = library.extract_library_specs(\"config\", \"example_custom_array_no_data\")\n",
        "pprint(config)\n",
        "print()\n",
        "\n",
        "array = CustomArraySystemDesign(config)\n",
        "save_path = array.config[\"array_system_design\"][\"location_data\"]\n",
        "array.create_project_csv(save_path)"
      ]
    },
    {
      "cell_type": "markdown",
      "metadata": {},
      "source": [
        "#### Let's take a look at the data to see what it output\n",
        "\n",
        "**NOTE**:\n",
        " 1. The offshore substation (row 0) is indicated via the `id` and `substation_id` columns being equal\n",
        " 2. For substaions only the `id`, `substation_id`, `name`, `latitued`, and `longitude` are required\n",
        " 3. `cable_length` and `bury_speed` are optional columns for turbines\n",
        " 4. `string` and `order` are filled out to maximize the length of a string given the cable(s) provided so in this case we can have up to 6 turbines in a string. **These are also, very importantly, starting their numbering with 0.**"
      ]
    },
    {
      "cell_type": "code",
      "execution_count": 6,
      "metadata": {},
      "outputs": [],
      "source": [
        "dudgeon_array_no_data = pd.read_csv(\"../library/cables/dudgeon_array_no_data.csv\")"
      ]
    },
    {
      "cell_type": "code",
      "execution_count": 7,
      "metadata": {},
      "outputs": [
        {
          "data": {
            "text/html": [
              "<div>\n",
              "<style scoped>\n",
              "    .dataframe tbody tr th:only-of-type {\n",
              "        vertical-align: middle;\n",
              "    }\n",
              "\n",
              "    .dataframe tbody tr th {\n",
              "        vertical-align: top;\n",
              "    }\n",
              "\n",
              "    .dataframe thead th {\n",
              "        text-align: right;\n",
              "    }\n",
              "</style>\n",
              "<table border=\"1\" class=\"dataframe\">\n",
              "  <thead>\n",
              "    <tr style=\"text-align: right;\">\n",
              "      <th></th>\n",
              "      <th>id</th>\n",
              "      <th>substation_id</th>\n",
              "      <th>name</th>\n",
              "      <th>latitude</th>\n",
              "      <th>longitude</th>\n",
              "      <th>string</th>\n",
              "      <th>order</th>\n",
              "      <th>cable_length</th>\n",
              "      <th>bury_speed</th>\n",
              "    </tr>\n",
              "  </thead>\n",
              "  <tbody>\n",
              "    <tr>\n",
              "      <th>0</th>\n",
              "      <td>oss1</td>\n",
              "      <td>oss1</td>\n",
              "      <td>offshore_substation</td>\n",
              "      <td>0.0</td>\n",
              "      <td>0.0</td>\n",
              "      <td>NaN</td>\n",
              "      <td>NaN</td>\n",
              "      <td>NaN</td>\n",
              "      <td>NaN</td>\n",
              "    </tr>\n",
              "    <tr>\n",
              "      <th>1</th>\n",
              "      <td>t0</td>\n",
              "      <td>oss1</td>\n",
              "      <td>turbine-0</td>\n",
              "      <td>0.0</td>\n",
              "      <td>0.0</td>\n",
              "      <td>0.0</td>\n",
              "      <td>0.0</td>\n",
              "      <td>0.0</td>\n",
              "      <td>0.0</td>\n",
              "    </tr>\n",
              "    <tr>\n",
              "      <th>2</th>\n",
              "      <td>t1</td>\n",
              "      <td>oss1</td>\n",
              "      <td>turbine-1</td>\n",
              "      <td>0.0</td>\n",
              "      <td>0.0</td>\n",
              "      <td>0.0</td>\n",
              "      <td>1.0</td>\n",
              "      <td>0.0</td>\n",
              "      <td>0.0</td>\n",
              "    </tr>\n",
              "    <tr>\n",
              "      <th>3</th>\n",
              "      <td>t2</td>\n",
              "      <td>oss1</td>\n",
              "      <td>turbine-2</td>\n",
              "      <td>0.0</td>\n",
              "      <td>0.0</td>\n",
              "      <td>0.0</td>\n",
              "      <td>2.0</td>\n",
              "      <td>0.0</td>\n",
              "      <td>0.0</td>\n",
              "    </tr>\n",
              "    <tr>\n",
              "      <th>4</th>\n",
              "      <td>t3</td>\n",
              "      <td>oss1</td>\n",
              "      <td>turbine-3</td>\n",
              "      <td>0.0</td>\n",
              "      <td>0.0</td>\n",
              "      <td>0.0</td>\n",
              "      <td>3.0</td>\n",
              "      <td>0.0</td>\n",
              "      <td>0.0</td>\n",
              "    </tr>\n",
              "    <tr>\n",
              "      <th>...</th>\n",
              "      <td>...</td>\n",
              "      <td>...</td>\n",
              "      <td>...</td>\n",
              "      <td>...</td>\n",
              "      <td>...</td>\n",
              "      <td>...</td>\n",
              "      <td>...</td>\n",
              "      <td>...</td>\n",
              "      <td>...</td>\n",
              "    </tr>\n",
              "    <tr>\n",
              "      <th>63</th>\n",
              "      <td>t62</td>\n",
              "      <td>oss1</td>\n",
              "      <td>turbine-62</td>\n",
              "      <td>0.0</td>\n",
              "      <td>0.0</td>\n",
              "      <td>10.0</td>\n",
              "      <td>2.0</td>\n",
              "      <td>0.0</td>\n",
              "      <td>0.0</td>\n",
              "    </tr>\n",
              "    <tr>\n",
              "      <th>64</th>\n",
              "      <td>t63</td>\n",
              "      <td>oss1</td>\n",
              "      <td>turbine-63</td>\n",
              "      <td>0.0</td>\n",
              "      <td>0.0</td>\n",
              "      <td>10.0</td>\n",
              "      <td>3.0</td>\n",
              "      <td>0.0</td>\n",
              "      <td>0.0</td>\n",
              "    </tr>\n",
              "    <tr>\n",
              "      <th>65</th>\n",
              "      <td>t64</td>\n",
              "      <td>oss1</td>\n",
              "      <td>turbine-64</td>\n",
              "      <td>0.0</td>\n",
              "      <td>0.0</td>\n",
              "      <td>10.0</td>\n",
              "      <td>4.0</td>\n",
              "      <td>0.0</td>\n",
              "      <td>0.0</td>\n",
              "    </tr>\n",
              "    <tr>\n",
              "      <th>66</th>\n",
              "      <td>t65</td>\n",
              "      <td>oss1</td>\n",
              "      <td>turbine-65</td>\n",
              "      <td>0.0</td>\n",
              "      <td>0.0</td>\n",
              "      <td>10.0</td>\n",
              "      <td>5.0</td>\n",
              "      <td>0.0</td>\n",
              "      <td>0.0</td>\n",
              "    </tr>\n",
              "    <tr>\n",
              "      <th>67</th>\n",
              "      <td>t66</td>\n",
              "      <td>oss1</td>\n",
              "      <td>turbine-66</td>\n",
              "      <td>0.0</td>\n",
              "      <td>0.0</td>\n",
              "      <td>11.0</td>\n",
              "      <td>0.0</td>\n",
              "      <td>0.0</td>\n",
              "      <td>0.0</td>\n",
              "    </tr>\n",
              "  </tbody>\n",
              "</table>\n",
              "<p>68 rows \u00d7 9 columns</p>\n",
              "</div>"
            ],
            "text/plain": [
              "      id substation_id                 name  latitude  longitude  string  \\\n",
              "0   oss1          oss1  offshore_substation       0.0        0.0     NaN   \n",
              "1     t0          oss1            turbine-0       0.0        0.0     0.0   \n",
              "2     t1          oss1            turbine-1       0.0        0.0     0.0   \n",
              "3     t2          oss1            turbine-2       0.0        0.0     0.0   \n",
              "4     t3          oss1            turbine-3       0.0        0.0     0.0   \n",
              "..   ...           ...                  ...       ...        ...     ...   \n",
              "63   t62          oss1           turbine-62       0.0        0.0    10.0   \n",
              "64   t63          oss1           turbine-63       0.0        0.0    10.0   \n",
              "65   t64          oss1           turbine-64       0.0        0.0    10.0   \n",
              "66   t65          oss1           turbine-65       0.0        0.0    10.0   \n",
              "67   t66          oss1           turbine-66       0.0        0.0    11.0   \n",
              "\n",
              "    order  cable_length  bury_speed  \n",
              "0     NaN           NaN         NaN  \n",
              "1     0.0           0.0         0.0  \n",
              "2     1.0           0.0         0.0  \n",
              "3     2.0           0.0         0.0  \n",
              "4     3.0           0.0         0.0  \n",
              "..    ...           ...         ...  \n",
              "63    2.0           0.0         0.0  \n",
              "64    3.0           0.0         0.0  \n",
              "65    4.0           0.0         0.0  \n",
              "66    5.0           0.0         0.0  \n",
              "67    0.0           0.0         0.0  \n",
              "\n",
              "[68 rows x 9 columns]"
            ]
          },
          "execution_count": 7,
          "metadata": {},
          "output_type": "execute_result"
        }
      ],
      "source": [
        "dudgeon_array_no_data"
      ]
    },
    {
      "cell_type": "code",
      "execution_count": null,
      "metadata": {},
      "outputs": [],
      "source": []
    },
    {
      "cell_type": "markdown",
      "metadata": {},
      "source": [
        "<a id=\"case_2\"></a>\n",
        "## Case 2: Standard straight-line distance for cable lengths\n",
        "\n",
        "Here we have the turbine and offshore substation locations that were extracted from the data source in the header but nothing specific regarding the actual cable lengths or the cable burial speeds for each section."
      ]
    },
    {
      "cell_type": "code",
      "execution_count": 8,
      "metadata": {},
      "outputs": [
        {
          "name": "stdout",
          "output_type": "stream",
          "text": [
            "{'array_system_design': {'cables': ['XLPE_400mm_33kV', 'XLPE_630mm_33kV'],\n",
            "                         'location_data': 'dudgeon_array'},\n",
            " 'plant': {'layout': 'custom', 'num_turbines': 67},\n",
            " 'site': {'depth': 20},\n",
            " 'turbine': 'SWT_6MW_154m_110m'}\n"
          ]
        }
      ],
      "source": [
        "config = library.extract_library_specs(\"config\", \"example_custom_array_simple\")\n",
        "pprint(config)"
      ]
    },
    {
      "cell_type": "code",
      "execution_count": 9,
      "metadata": {},
      "outputs": [],
      "source": [
        "array = CustomArraySystemDesign(config)\n",
        "array.run()"
      ]
    },
    {
      "cell_type": "markdown",
      "metadata": {},
      "source": [
        "#### Let's take a look at the data to see what it output\n",
        "\n",
        "**NOTE**: Here the cable length and bury speed are still set to 0 to indicate that they are unknown"
      ]
    },
    {
      "cell_type": "code",
      "execution_count": 10,
      "metadata": {},
      "outputs": [
        {
          "data": {
            "image/png": "[encoded data removed]",
            "text/plain": [
              "<Figure size 720x720 with 1 Axes>"
            ]
          },
          "metadata": {
            "needs_background": "light"
          },
          "output_type": "display_data"
        }
      ],
      "source": [
        "array.plot_array_system(show=True)"
      ]
    },
    {
      "cell_type": "markdown",
      "metadata": {},
      "source": [
        "#### It should be noted here that the the latitude and longitude here are WGS-84 decimal coordinates"
      ]
    },
    {
      "cell_type": "code",
      "execution_count": 11,
      "metadata": {},
      "outputs": [
        {
          "data": {
            "text/html": [
              "<div>\n",
              "<style scoped>\n",
              "    .dataframe tbody tr th:only-of-type {\n",
              "        vertical-align: middle;\n",
              "    }\n",
              "\n",
              "    .dataframe tbody tr th {\n",
              "        vertical-align: top;\n",
              "    }\n",
              "\n",
              "    .dataframe thead th {\n",
              "        text-align: right;\n",
              "    }\n",
              "</style>\n",
              "<table border=\"1\" class=\"dataframe\">\n",
              "  <thead>\n",
              "    <tr style=\"text-align: right;\">\n",
              "      <th></th>\n",
              "      <th>id</th>\n",
              "      <th>substation_id</th>\n",
              "      <th>substation_name</th>\n",
              "      <th>substation_latitude</th>\n",
              "      <th>substation_longitude</th>\n",
              "      <th>turbine_name</th>\n",
              "      <th>turbine_latitude</th>\n",
              "      <th>turbine_longitude</th>\n",
              "      <th>string</th>\n",
              "      <th>order</th>\n",
              "      <th>cable_length</th>\n",
              "      <th>bury_speed</th>\n",
              "    </tr>\n",
              "  </thead>\n",
              "  <tbody>\n",
              "    <tr>\n",
              "      <th>0</th>\n",
              "      <td>DAE_A1</td>\n",
              "      <td>DOW_OSS</td>\n",
              "      <td>DOW_OSS</td>\n",
              "      <td>53.2648</td>\n",
              "      <td>1.378767</td>\n",
              "      <td>DAE_A1</td>\n",
              "      <td>53.243950</td>\n",
              "      <td>1.358783</td>\n",
              "      <td>0</td>\n",
              "      <td>0</td>\n",
              "      <td>0.0</td>\n",
              "      <td>0.0</td>\n",
              "    </tr>\n",
              "    <tr>\n",
              "      <th>1</th>\n",
              "      <td>DAD_A2</td>\n",
              "      <td>DOW_OSS</td>\n",
              "      <td>DOW_OSS</td>\n",
              "      <td>53.2648</td>\n",
              "      <td>1.378767</td>\n",
              "      <td>DAD_A2</td>\n",
              "      <td>53.248467</td>\n",
              "      <td>1.349033</td>\n",
              "      <td>0</td>\n",
              "      <td>1</td>\n",
              "      <td>0.0</td>\n",
              "      <td>0.0</td>\n",
              "    </tr>\n",
              "    <tr>\n",
              "      <th>2</th>\n",
              "      <td>DAC_A3</td>\n",
              "      <td>DOW_OSS</td>\n",
              "      <td>DOW_OSS</td>\n",
              "      <td>53.2648</td>\n",
              "      <td>1.378767</td>\n",
              "      <td>DAC_A3</td>\n",
              "      <td>53.252983</td>\n",
              "      <td>1.339283</td>\n",
              "      <td>0</td>\n",
              "      <td>2</td>\n",
              "      <td>0.0</td>\n",
              "      <td>0.0</td>\n",
              "    </tr>\n",
              "    <tr>\n",
              "      <th>3</th>\n",
              "      <td>DAB_A4</td>\n",
              "      <td>DOW_OSS</td>\n",
              "      <td>DOW_OSS</td>\n",
              "      <td>53.2648</td>\n",
              "      <td>1.378767</td>\n",
              "      <td>DAB_A4</td>\n",
              "      <td>53.257500</td>\n",
              "      <td>1.329550</td>\n",
              "      <td>0</td>\n",
              "      <td>3</td>\n",
              "      <td>0.0</td>\n",
              "      <td>0.0</td>\n",
              "    </tr>\n",
              "    <tr>\n",
              "      <th>4</th>\n",
              "      <td>DAA_A5</td>\n",
              "      <td>DOW_OSS</td>\n",
              "      <td>DOW_OSS</td>\n",
              "      <td>53.2648</td>\n",
              "      <td>1.378767</td>\n",
              "      <td>DAA_A5</td>\n",
              "      <td>53.262017</td>\n",
              "      <td>1.319800</td>\n",
              "      <td>0</td>\n",
              "      <td>4</td>\n",
              "      <td>0.0</td>\n",
              "      <td>0.0</td>\n",
              "    </tr>\n",
              "    <tr>\n",
              "      <th>...</th>\n",
              "      <td>...</td>\n",
              "      <td>...</td>\n",
              "      <td>...</td>\n",
              "      <td>...</td>\n",
              "      <td>...</td>\n",
              "      <td>...</td>\n",
              "      <td>...</td>\n",
              "      <td>...</td>\n",
              "      <td>...</td>\n",
              "      <td>...</td>\n",
              "      <td>...</td>\n",
              "      <td>...</td>\n",
              "    </tr>\n",
              "    <tr>\n",
              "      <th>57</th>\n",
              "      <td>DCE_L1</td>\n",
              "      <td>DOW_OSS</td>\n",
              "      <td>DOW_OSS</td>\n",
              "      <td>53.2648</td>\n",
              "      <td>1.378767</td>\n",
              "      <td>DCE_L1</td>\n",
              "      <td>53.251783</td>\n",
              "      <td>1.368833</td>\n",
              "      <td>11</td>\n",
              "      <td>0</td>\n",
              "      <td>0.0</td>\n",
              "      <td>0.0</td>\n",
              "    </tr>\n",
              "    <tr>\n",
              "      <th>58</th>\n",
              "      <td>DAF_L2</td>\n",
              "      <td>DOW_OSS</td>\n",
              "      <td>DOW_OSS</td>\n",
              "      <td>53.2648</td>\n",
              "      <td>1.378767</td>\n",
              "      <td>DAF_L2</td>\n",
              "      <td>53.239433</td>\n",
              "      <td>1.368533</td>\n",
              "      <td>11</td>\n",
              "      <td>1</td>\n",
              "      <td>0.0</td>\n",
              "      <td>0.0</td>\n",
              "    </tr>\n",
              "    <tr>\n",
              "      <th>59</th>\n",
              "      <td>DAG_L3</td>\n",
              "      <td>DOW_OSS</td>\n",
              "      <td>DOW_OSS</td>\n",
              "      <td>53.2648</td>\n",
              "      <td>1.378767</td>\n",
              "      <td>DAG_L3</td>\n",
              "      <td>53.234917</td>\n",
              "      <td>1.378250</td>\n",
              "      <td>11</td>\n",
              "      <td>2</td>\n",
              "      <td>0.0</td>\n",
              "      <td>0.0</td>\n",
              "    </tr>\n",
              "    <tr>\n",
              "      <th>60</th>\n",
              "      <td>DAH_L4</td>\n",
              "      <td>DOW_OSS</td>\n",
              "      <td>DOW_OSS</td>\n",
              "      <td>53.2648</td>\n",
              "      <td>1.378767</td>\n",
              "      <td>DAH_L4</td>\n",
              "      <td>53.230400</td>\n",
              "      <td>1.388000</td>\n",
              "      <td>11</td>\n",
              "      <td>3</td>\n",
              "      <td>0.0</td>\n",
              "      <td>0.0</td>\n",
              "    </tr>\n",
              "    <tr>\n",
              "      <th>61</th>\n",
              "      <td>DAJ_L5</td>\n",
              "      <td>DOW_OSS</td>\n",
              "      <td>DOW_OSS</td>\n",
              "      <td>53.2648</td>\n",
              "      <td>1.378767</td>\n",
              "      <td>DAJ_L5</td>\n",
              "      <td>53.225883</td>\n",
              "      <td>1.397750</td>\n",
              "      <td>11</td>\n",
              "      <td>4</td>\n",
              "      <td>0.0</td>\n",
              "      <td>0.0</td>\n",
              "    </tr>\n",
              "  </tbody>\n",
              "</table>\n",
              "<p>67 rows \u00d7 12 columns</p>\n",
              "</div>"
            ],
            "text/plain": [
              "        id substation_id substation_name  substation_latitude  \\\n",
              "0   DAE_A1       DOW_OSS         DOW_OSS              53.2648   \n",
              "1   DAD_A2       DOW_OSS         DOW_OSS              53.2648   \n",
              "2   DAC_A3       DOW_OSS         DOW_OSS              53.2648   \n",
              "3   DAB_A4       DOW_OSS         DOW_OSS              53.2648   \n",
              "4   DAA_A5       DOW_OSS         DOW_OSS              53.2648   \n",
              "..     ...           ...             ...                  ...   \n",
              "57  DCE_L1       DOW_OSS         DOW_OSS              53.2648   \n",
              "58  DAF_L2       DOW_OSS         DOW_OSS              53.2648   \n",
              "59  DAG_L3       DOW_OSS         DOW_OSS              53.2648   \n",
              "60  DAH_L4       DOW_OSS         DOW_OSS              53.2648   \n",
              "61  DAJ_L5       DOW_OSS         DOW_OSS              53.2648   \n",
              "\n",
              "    substation_longitude turbine_name  turbine_latitude  turbine_longitude  \\\n",
              "0               1.378767       DAE_A1         53.243950           1.358783   \n",
              "1               1.378767       DAD_A2         53.248467           1.349033   \n",
              "2               1.378767       DAC_A3         53.252983           1.339283   \n",
              "3               1.378767       DAB_A4         53.257500           1.329550   \n",
              "4               1.378767       DAA_A5         53.262017           1.319800   \n",
              "..                   ...          ...               ...                ...   \n",
              "57              1.378767       DCE_L1         53.251783           1.368833   \n",
              "58              1.378767       DAF_L2         53.239433           1.368533   \n",
              "59              1.378767       DAG_L3         53.234917           1.378250   \n",
              "60              1.378767       DAH_L4         53.230400           1.388000   \n",
              "61              1.378767       DAJ_L5         53.225883           1.397750   \n",
              "\n",
              "    string  order  cable_length  bury_speed  \n",
              "0        0      0           0.0         0.0  \n",
              "1        0      1           0.0         0.0  \n",
              "2        0      2           0.0         0.0  \n",
              "3        0      3           0.0         0.0  \n",
              "4        0      4           0.0         0.0  \n",
              "..     ...    ...           ...         ...  \n",
              "57      11      0           0.0         0.0  \n",
              "58      11      1           0.0         0.0  \n",
              "59      11      2           0.0         0.0  \n",
              "60      11      3           0.0         0.0  \n",
              "61      11      4           0.0         0.0  \n",
              "\n",
              "[67 rows x 12 columns]"
            ]
          },
          "execution_count": 11,
          "metadata": {},
          "output_type": "execute_result"
        }
      ],
      "source": [
        "array.location_data"
      ]
    },
    {
      "cell_type": "markdown",
      "metadata": {},
      "source": [
        "#### Now let's look at the cost for this cabling setup by each type of cable as well as the total cost"
      ]
    },
    {
      "cell_type": "code",
      "execution_count": 12,
      "metadata": {},
      "outputs": [
        {
          "name": "stdout",
          "output_type": "stream",
          "text": [
            "Cable Type      |      Cost in USD\n",
            "XLPE_400mm_33kV | $  19,868,788.44\n",
            "XLPE_630mm_33kV | $   5,462,877.30\n",
            "Total           | $  25,331,665.74\n"
          ]
        }
      ],
      "source": [
        "print(f\"{'Cable Type':<16}|  {'Cost in USD':>15}\")\n",
        "for cable, cost in array.cost_by_type.items():\n",
        "    print(f\"{cable:<16}| ${cost:>15,.2f}\")\n",
        "    \n",
        "print(f\"{'Total':<16}| ${array.total_cable_cost:>15,.2f}\")"
      ]
    },
    {
      "cell_type": "markdown",
      "metadata": {},
      "source": [
        "<a id=\"case_3\"></a>\n",
        "## Case 3: Distance-based \"coordinate\" system\n",
        "\n",
        "In this case, we will consider each turbine and substation on a distance-based \"coordinate\" system where the longitude and latitude are the longitudinal (x direction) and latitudinal (y direction) **distances**, in kilometers, from a common reference point. We are still using the Dudgeon data, but the distances were computed outside of this example and the details are not be included.\n",
        "\n",
        "Below, we can see that the input file is still encoded in the exact same manner as [Case 2](#case_2), but latitude and longitude are relative distances and not proper coordinates."
      ]
    },
    {
      "cell_type": "code",
      "execution_count": 13,
      "metadata": {},
      "outputs": [
        {
          "data": {
            "text/html": [
              "<div>\n",
              "<style scoped>\n",
              "    .dataframe tbody tr th:only-of-type {\n",
              "        vertical-align: middle;\n",
              "    }\n",
              "\n",
              "    .dataframe tbody tr th {\n",
              "        vertical-align: top;\n",
              "    }\n",
              "\n",
              "    .dataframe thead th {\n",
              "        text-align: right;\n",
              "    }\n",
              "</style>\n",
              "<table border=\"1\" class=\"dataframe\">\n",
              "  <thead>\n",
              "    <tr style=\"text-align: right;\">\n",
              "      <th></th>\n",
              "      <th>id</th>\n",
              "      <th>substation_id</th>\n",
              "      <th>name</th>\n",
              "      <th>longitude</th>\n",
              "      <th>latitude</th>\n",
              "      <th>string</th>\n",
              "      <th>order</th>\n",
              "      <th>cable_length</th>\n",
              "      <th>bury_speed</th>\n",
              "    </tr>\n",
              "  </thead>\n",
              "  <tbody>\n",
              "    <tr>\n",
              "      <th>0</th>\n",
              "      <td>DOW_OSS</td>\n",
              "      <td>DOW_OSS</td>\n",
              "      <td>DOW_OSS</td>\n",
              "      <td>16.229909</td>\n",
              "      <td>35.769173</td>\n",
              "      <td></td>\n",
              "      <td></td>\n",
              "      <td></td>\n",
              "      <td></td>\n",
              "    </tr>\n",
              "    <tr>\n",
              "      <th>1</th>\n",
              "      <td>DAE_A1</td>\n",
              "      <td>DOW_OSS</td>\n",
              "      <td>DAE_A1</td>\n",
              "      <td>14.890845</td>\n",
              "      <td>33.450759</td>\n",
              "      <td>0</td>\n",
              "      <td>0</td>\n",
              "      <td>0</td>\n",
              "      <td>0</td>\n",
              "    </tr>\n",
              "    <tr>\n",
              "      <th>2</th>\n",
              "      <td>DAD_A2</td>\n",
              "      <td>DOW_OSS</td>\n",
              "      <td>DAD_A2</td>\n",
              "      <td>14.237528</td>\n",
              "      <td>33.953026</td>\n",
              "      <td>0</td>\n",
              "      <td>1</td>\n",
              "      <td>0</td>\n",
              "      <td>0</td>\n",
              "    </tr>\n",
              "    <tr>\n",
              "      <th>3</th>\n",
              "      <td>DAC_A3</td>\n",
              "      <td>DOW_OSS</td>\n",
              "      <td>DAC_A3</td>\n",
              "      <td>13.584211</td>\n",
              "      <td>34.455182</td>\n",
              "      <td>0</td>\n",
              "      <td>2</td>\n",
              "      <td>0</td>\n",
              "      <td>0</td>\n",
              "    </tr>\n",
              "    <tr>\n",
              "      <th>4</th>\n",
              "      <td>DAB_A4</td>\n",
              "      <td>DOW_OSS</td>\n",
              "      <td>DAB_A4</td>\n",
              "      <td>12.932034</td>\n",
              "      <td>34.957450</td>\n",
              "      <td>0</td>\n",
              "      <td>3</td>\n",
              "      <td>0</td>\n",
              "      <td>0</td>\n",
              "    </tr>\n",
              "    <tr>\n",
              "      <th>...</th>\n",
              "      <td>...</td>\n",
              "      <td>...</td>\n",
              "      <td>...</td>\n",
              "      <td>...</td>\n",
              "      <td>...</td>\n",
              "      <td>...</td>\n",
              "      <td>...</td>\n",
              "      <td>...</td>\n",
              "      <td>...</td>\n",
              "    </tr>\n",
              "    <tr>\n",
              "      <th>63</th>\n",
              "      <td>DCE_L1</td>\n",
              "      <td>DOW_OSS</td>\n",
              "      <td>DCE_L1</td>\n",
              "      <td>15.564263</td>\n",
              "      <td>34.321749</td>\n",
              "      <td>11</td>\n",
              "      <td>0</td>\n",
              "      <td>0</td>\n",
              "      <td>0</td>\n",
              "    </tr>\n",
              "    <tr>\n",
              "      <th>64</th>\n",
              "      <td>DAF_L2</td>\n",
              "      <td>DOW_OSS</td>\n",
              "      <td>DAF_L2</td>\n",
              "      <td>15.544161</td>\n",
              "      <td>32.948491</td>\n",
              "      <td>11</td>\n",
              "      <td>1</td>\n",
              "      <td>0</td>\n",
              "      <td>0</td>\n",
              "    </tr>\n",
              "    <tr>\n",
              "      <th>65</th>\n",
              "      <td>DAG_L3</td>\n",
              "      <td>DOW_OSS</td>\n",
              "      <td>DAG_L3</td>\n",
              "      <td>16.195266</td>\n",
              "      <td>32.446335</td>\n",
              "      <td>11</td>\n",
              "      <td>2</td>\n",
              "      <td>0</td>\n",
              "      <td>0</td>\n",
              "    </tr>\n",
              "    <tr>\n",
              "      <th>66</th>\n",
              "      <td>DAH_L4</td>\n",
              "      <td>DOW_OSS</td>\n",
              "      <td>DAH_L4</td>\n",
              "      <td>16.848583</td>\n",
              "      <td>31.944067</td>\n",
              "      <td>11</td>\n",
              "      <td>3</td>\n",
              "      <td>0</td>\n",
              "      <td>0</td>\n",
              "    </tr>\n",
              "    <tr>\n",
              "      <th>67</th>\n",
              "      <td>DAJ_L5</td>\n",
              "      <td>DOW_OSS</td>\n",
              "      <td>DAJ_L5</td>\n",
              "      <td>17.501899</td>\n",
              "      <td>31.441800</td>\n",
              "      <td>11</td>\n",
              "      <td>4</td>\n",
              "      <td>0</td>\n",
              "      <td>0</td>\n",
              "    </tr>\n",
              "  </tbody>\n",
              "</table>\n",
              "<p>68 rows \u00d7 9 columns</p>\n",
              "</div>"
            ],
            "text/plain": [
              "         id substation_id     name  longitude   latitude string order  \\\n",
              "0   DOW_OSS       DOW_OSS  DOW_OSS  16.229909  35.769173                \n",
              "1    DAE_A1       DOW_OSS   DAE_A1  14.890845  33.450759      0     0   \n",
              "2    DAD_A2       DOW_OSS   DAD_A2  14.237528  33.953026      0     1   \n",
              "3    DAC_A3       DOW_OSS   DAC_A3  13.584211  34.455182      0     2   \n",
              "4    DAB_A4       DOW_OSS   DAB_A4  12.932034  34.957450      0     3   \n",
              "..      ...           ...      ...        ...        ...    ...   ...   \n",
              "63   DCE_L1       DOW_OSS   DCE_L1  15.564263  34.321749     11     0   \n",
              "64   DAF_L2       DOW_OSS   DAF_L2  15.544161  32.948491     11     1   \n",
              "65   DAG_L3       DOW_OSS   DAG_L3  16.195266  32.446335     11     2   \n",
              "66   DAH_L4       DOW_OSS   DAH_L4  16.848583  31.944067     11     3   \n",
              "67   DAJ_L5       DOW_OSS   DAJ_L5  17.501899  31.441800     11     4   \n",
              "\n",
              "   cable_length bury_speed  \n",
              "0                           \n",
              "1             0          0  \n",
              "2             0          0  \n",
              "3             0          0  \n",
              "4             0          0  \n",
              "..          ...        ...  \n",
              "63            0          0  \n",
              "64            0          0  \n",
              "65            0          0  \n",
              "66            0          0  \n",
              "67            0          0  \n",
              "\n",
              "[68 rows x 9 columns]"
            ]
          },
          "execution_count": 13,
          "metadata": {},
          "output_type": "execute_result"
        }
      ],
      "source": [
        "df = pd.read_csv(\"../library/cables/dudgeon_distance_based.csv\", index_col=False).fillna(\"\")\n",
        "df"
      ]
    },
    {
      "cell_type": "markdown",
      "metadata": {},
      "source": [
        "#### For this case we also add the `distance` argument to the `array_system_design` and set it to `True` to indicate we are dealing with distances."
      ]
    },
    {
      "cell_type": "code",
      "execution_count": 14,
      "metadata": {},
      "outputs": [
        {
          "name": "stdout",
          "output_type": "stream",
          "text": [
            "{'array_system_design': {'cables': ['XLPE_400mm_33kV', 'XLPE_630mm_33kV'],\n",
            "                         'distance': True,\n",
            "                         'location_data': 'dudgeon_distance_based'},\n",
            " 'plant': {'layout': 'custom', 'num_turbines': 67},\n",
            " 'site': {'depth': 20},\n",
            " 'turbine': 'SWT_6MW_154m_110m'}\n"
          ]
        }
      ],
      "source": [
        "config = library.extract_library_specs(\"config\", \"example_custom_array_simple_distance_based\")\n",
        "pprint(config)"
      ]
    },
    {
      "cell_type": "markdown",
      "metadata": {},
      "source": [
        "#### OR we can create the flag in the function call.\n",
        "\n",
        "**Note:** the configuration dictionary will always override this setting."
      ]
    },
    {
      "cell_type": "code",
      "execution_count": 15,
      "metadata": {},
      "outputs": [],
      "source": [
        "array_distance = CustomArraySystemDesign(config, distance=True)\n",
        "array_distance.run()"
      ]
    },
    {
      "cell_type": "markdown",
      "metadata": {},
      "source": [
        "#### Let's take a look at the data to see what it output\n",
        "\n",
        "While some of the cable lengths may be slightly different, the spacing is still maintained, and we can see that this is the Dudgeon windfarm."
      ]
    },
    {
      "cell_type": "code",
      "execution_count": 16,
      "metadata": {},
      "outputs": [
        {
          "data": {
            "image/png": "[encoded data removed]",
            "text/plain": [
              "<Figure size 720x720 with 1 Axes>"
            ]
          },
          "metadata": {
            "needs_background": "light"
          },
          "output_type": "display_data"
        }
      ],
      "source": [
        "array_distance.plot_array_system(show=True)"
      ]
    },
    {
      "cell_type": "markdown",
      "metadata": {},
      "source": [
        "#### Now let's look at the cost for this cabling setup by each type of cable as well as the total cost and compare it to the previous case\n",
        "\n",
        "While there is a minor difference, this difference is small in comparison to the total project cost and errs in a more conservative direction."
      ]
    },
    {
      "cell_type": "code",
      "execution_count": 17,
      "metadata": {},
      "outputs": [
        {
          "name": "stdout",
          "output_type": "stream",
          "text": [
            "Cable Type       | Cost in USD (lat,lon) | Cost in USD (dist_lat,dist_lon)\n",
            "XLPE_400mm_33kV  | $       19,868,788.44 | $  19,926,147.66\n",
            "XLPE_630mm_33kV  | $        5,462,877.30 | $   5,479,206.87\n",
            "Total            | $       25,331,665.74 | $  25,405,354.53\n"
          ]
        }
      ],
      "source": [
        "print(f\"{'Cable Type':<16} | {'Cost in USD (lat,lon)':>20} | {'Cost in USD (dist_lat,dist_lon)':>15}\")\n",
        "for (cable1, cost1), (cable2, cost2) in zip(array.cost_by_type.items(), array_distance.cost_by_type.items()):\n",
        "    print(f\"{cable1:<16} | ${cost1:>20,.2f} | ${cost2:>15,.2f}\")\n",
        "    \n",
        "print(f\"{'Total':<16} | ${array.total_cable_cost:>20,.2f} | ${array_distance.total_cable_cost:>15,.2f}\")"
      ]
    },
    {
      "cell_type": "code",
      "execution_count": null,
      "metadata": {},
      "outputs": [],
      "source": []
    },
    {
      "cell_type": "markdown",
      "metadata": {},
      "source": [
        "<a id=\"case_4\"></a>\n",
        "## Case 4: We want to account for some additions to the cable lengths due to exclusion zones\n",
        "\n",
        "This can be done with the `\"average_exclusion_percent\"` keyword in the configuration that can be seen below.\n",
        "\n",
        "**Note:**\n",
        " 1. There is an average  exclusion and is applied to each of the cable sections\n",
        " 2. The plot won't change because it will not have details on the new paths so we'll only demonstrate the cost changes (a 4.8% increase, which is in line with the exclusion and the accounting for the site depth."
      ]
    },
    {
      "cell_type": "code",
      "execution_count": 18,
      "metadata": {},
      "outputs": [
        {
          "data": {
            "text/plain": [
              "{'array_system_design': {'cables': ['XLPE_400mm_33kV', 'XLPE_630mm_33kV'],\n",
              "  'location_data': 'dudgeon_array',\n",
              "  'average_exclusion_percent': 0.05},\n",
              " 'plant': {'layout': 'custom', 'num_turbines': 67},\n",
              " 'site': {'depth': 20},\n",
              " 'turbine': 'SWT_6MW_154m_110m'}"
            ]
          },
          "execution_count": 18,
          "metadata": {},
          "output_type": "execute_result"
        }
      ],
      "source": [
        "config = library.extract_library_specs(\"config\", \"example_custom_array_exclusions\")\n",
        "config"
      ]
    },
    {
      "cell_type": "code",
      "execution_count": 19,
      "metadata": {},
      "outputs": [],
      "source": [
        "array_exclusion = CustomArraySystemDesign(config)\n",
        "array_exclusion.run()"
      ]
    },
    {
      "cell_type": "code",
      "execution_count": 20,
      "metadata": {},
      "outputs": [
        {
          "name": "stdout",
          "output_type": "stream",
          "text": [
            "Cable Type      |      Cost in USD\n",
            "XLPE_400mm_33kV | $  20,826,227.86\n",
            "XLPE_630mm_33kV | $   5,729,721.17\n",
            "Total           | $  26,555,949.03\n"
          ]
        }
      ],
      "source": [
        "print(f\"{'Cable Type':<16}|  {'Cost in USD':>15}\")\n",
        "for cable, cost in array_exclusion.cost_by_type.items():\n",
        "    print(f\"{cable:<16}| ${cost:>15,.2f}\")\n",
        "    \n",
        "print(f\"{'Total':<16}| ${array_exclusion.total_cable_cost:>15,.2f}\")"
      ]
    },
    {
      "cell_type": "code",
      "execution_count": null,
      "metadata": {},
      "outputs": [],
      "source": []
    },
    {
      "cell_type": "markdown",
      "metadata": {},
      "source": [
        "<a id=\"case_5\"></a>\n",
        "## Case 5: Customize the distances \n",
        "\n",
        "If we look at the map in the [Call to Mariners](http://dudgeonoffshorewind.co.uk/news/notices/Dudgeon%20-%20Notice%20to%20Mariners%20wk25.pdf) there are different sized exclusions in the cables, so for this example we'll change the distances from [Case 4](#case_4) where we used an average exclusion to be a bit different in each case by using the `cable_length` column. In addition, we will utilize the `bury_speed` column to demonstrate how these columns will be used.\n",
        "\n",
        "**Note:** this work was done outside the notebook, but can be uploaded as show in the example below.\n",
        "\n",
        "For this example, half of the windfarm will have different soil condition, so we will use our proxy: `bury_speed` by modifying the burial speed to be fast (0.5 km/h) and slow (0.05 km/hr), respectively, to account for sandy soil and rocky soil. The purpose of this is for passing through customized parameters in the design phase to be utilized in the installation phase as will be seen in the final two examples."
      ]
    },
    {
      "cell_type": "code",
      "execution_count": 21,
      "metadata": {},
      "outputs": [
        {
          "data": {
            "text/plain": [
              "{'array_system_design': {'cables': ['XLPE_400mm_33kV', 'XLPE_630mm_33kV'],\n",
              "  'location_data': 'dudgeon_custom'},\n",
              " 'plant': {'layout': 'custom', 'num_turbines': 67},\n",
              " 'site': {'depth': 20},\n",
              " 'turbine': 'SWT_6MW_154m_110m'}"
            ]
          },
          "execution_count": 21,
          "metadata": {},
          "output_type": "execute_result"
        }
      ],
      "source": [
        "config = library.extract_library_specs(\"config\", \"example_custom_array_custom\")\n",
        "\n",
        "# Note location_data the same one that was saved because I updated it!\n",
        "config"
      ]
    },
    {
      "cell_type": "code",
      "execution_count": 22,
      "metadata": {},
      "outputs": [],
      "source": [
        "array_custom = CustomArraySystemDesign(config)\n",
        "array_custom.run()"
      ]
    },
    {
      "cell_type": "markdown",
      "metadata": {},
      "source": [
        "#### Note that there are now cable lengths defined as well as burial speeds for installation"
      ]
    },
    {
      "cell_type": "code",
      "execution_count": 23,
      "metadata": {},
      "outputs": [
        {
          "data": {
            "text/html": [
              "<div>\n",
              "<style scoped>\n",
              "    .dataframe tbody tr th:only-of-type {\n",
              "        vertical-align: middle;\n",
              "    }\n",
              "\n",
              "    .dataframe tbody tr th {\n",
              "        vertical-align: top;\n",
              "    }\n",
              "\n",
              "    .dataframe thead th {\n",
              "        text-align: right;\n",
              "    }\n",
              "</style>\n",
              "<table border=\"1\" class=\"dataframe\">\n",
              "  <thead>\n",
              "    <tr style=\"text-align: right;\">\n",
              "      <th></th>\n",
              "      <th>id</th>\n",
              "      <th>substation_id</th>\n",
              "      <th>substation_name</th>\n",
              "      <th>substation_latitude</th>\n",
              "      <th>substation_longitude</th>\n",
              "      <th>turbine_name</th>\n",
              "      <th>turbine_latitude</th>\n",
              "      <th>turbine_longitude</th>\n",
              "      <th>string</th>\n",
              "      <th>order</th>\n",
              "      <th>cable_length</th>\n",
              "      <th>bury_speed</th>\n",
              "    </tr>\n",
              "  </thead>\n",
              "  <tbody>\n",
              "    <tr>\n",
              "      <th>0</th>\n",
              "      <td>DAE_A1</td>\n",
              "      <td>DOW_OSS</td>\n",
              "      <td>DOW_OSS</td>\n",
              "      <td>53.2648</td>\n",
              "      <td>1.378767</td>\n",
              "      <td>DAE_A1</td>\n",
              "      <td>53.243950</td>\n",
              "      <td>1.358783</td>\n",
              "      <td>0</td>\n",
              "      <td>0</td>\n",
              "      <td>3.135279</td>\n",
              "      <td>0.50</td>\n",
              "    </tr>\n",
              "    <tr>\n",
              "      <th>1</th>\n",
              "      <td>DAD_A2</td>\n",
              "      <td>DOW_OSS</td>\n",
              "      <td>DOW_OSS</td>\n",
              "      <td>53.2648</td>\n",
              "      <td>1.378767</td>\n",
              "      <td>DAD_A2</td>\n",
              "      <td>53.248467</td>\n",
              "      <td>1.349033</td>\n",
              "      <td>0</td>\n",
              "      <td>1</td>\n",
              "      <td>0.993860</td>\n",
              "      <td>0.50</td>\n",
              "    </tr>\n",
              "    <tr>\n",
              "      <th>2</th>\n",
              "      <td>DAC_A3</td>\n",
              "      <td>DOW_OSS</td>\n",
              "      <td>DOW_OSS</td>\n",
              "      <td>53.2648</td>\n",
              "      <td>1.378767</td>\n",
              "      <td>DAC_A3</td>\n",
              "      <td>53.252983</td>\n",
              "      <td>1.339283</td>\n",
              "      <td>0</td>\n",
              "      <td>2</td>\n",
              "      <td>0.993719</td>\n",
              "      <td>0.50</td>\n",
              "    </tr>\n",
              "    <tr>\n",
              "      <th>3</th>\n",
              "      <td>DAB_A4</td>\n",
              "      <td>DOW_OSS</td>\n",
              "      <td>DOW_OSS</td>\n",
              "      <td>53.2648</td>\n",
              "      <td>1.378767</td>\n",
              "      <td>DAB_A4</td>\n",
              "      <td>53.257500</td>\n",
              "      <td>1.329550</td>\n",
              "      <td>0</td>\n",
              "      <td>3</td>\n",
              "      <td>0.992699</td>\n",
              "      <td>0.50</td>\n",
              "    </tr>\n",
              "    <tr>\n",
              "      <th>4</th>\n",
              "      <td>DAA_A5</td>\n",
              "      <td>DOW_OSS</td>\n",
              "      <td>DOW_OSS</td>\n",
              "      <td>53.2648</td>\n",
              "      <td>1.378767</td>\n",
              "      <td>DAA_A5</td>\n",
              "      <td>53.262017</td>\n",
              "      <td>1.319800</td>\n",
              "      <td>0</td>\n",
              "      <td>4</td>\n",
              "      <td>0.993673</td>\n",
              "      <td>0.50</td>\n",
              "    </tr>\n",
              "    <tr>\n",
              "      <th>...</th>\n",
              "      <td>...</td>\n",
              "      <td>...</td>\n",
              "      <td>...</td>\n",
              "      <td>...</td>\n",
              "      <td>...</td>\n",
              "      <td>...</td>\n",
              "      <td>...</td>\n",
              "      <td>...</td>\n",
              "      <td>...</td>\n",
              "      <td>...</td>\n",
              "      <td>...</td>\n",
              "      <td>...</td>\n",
              "    </tr>\n",
              "    <tr>\n",
              "      <th>62</th>\n",
              "      <td>DCE_L1</td>\n",
              "      <td>DOW_OSS</td>\n",
              "      <td>DOW_OSS</td>\n",
              "      <td>53.2648</td>\n",
              "      <td>1.378767</td>\n",
              "      <td>DCE_L1</td>\n",
              "      <td>53.251783</td>\n",
              "      <td>1.368833</td>\n",
              "      <td>11</td>\n",
              "      <td>0</td>\n",
              "      <td>1.712822</td>\n",
              "      <td>0.05</td>\n",
              "    </tr>\n",
              "    <tr>\n",
              "      <th>63</th>\n",
              "      <td>DAF_L2</td>\n",
              "      <td>DOW_OSS</td>\n",
              "      <td>DOW_OSS</td>\n",
              "      <td>53.2648</td>\n",
              "      <td>1.378767</td>\n",
              "      <td>DAF_L2</td>\n",
              "      <td>53.239433</td>\n",
              "      <td>1.368533</td>\n",
              "      <td>11</td>\n",
              "      <td>1</td>\n",
              "      <td>1.483318</td>\n",
              "      <td>0.05</td>\n",
              "    </tr>\n",
              "    <tr>\n",
              "      <th>64</th>\n",
              "      <td>DAG_L3</td>\n",
              "      <td>DOW_OSS</td>\n",
              "      <td>DOW_OSS</td>\n",
              "      <td>53.2648</td>\n",
              "      <td>1.378767</td>\n",
              "      <td>DAG_L3</td>\n",
              "      <td>53.234917</td>\n",
              "      <td>1.378250</td>\n",
              "      <td>11</td>\n",
              "      <td>2</td>\n",
              "      <td>0.901721</td>\n",
              "      <td>0.05</td>\n",
              "    </tr>\n",
              "    <tr>\n",
              "      <th>65</th>\n",
              "      <td>DAH_L4</td>\n",
              "      <td>DOW_OSS</td>\n",
              "      <td>DOW_OSS</td>\n",
              "      <td>53.2648</td>\n",
              "      <td>1.378767</td>\n",
              "      <td>DAH_L4</td>\n",
              "      <td>53.230400</td>\n",
              "      <td>1.388000</td>\n",
              "      <td>11</td>\n",
              "      <td>3</td>\n",
              "      <td>0.903679</td>\n",
              "      <td>0.05</td>\n",
              "    </tr>\n",
              "    <tr>\n",
              "      <th>66</th>\n",
              "      <td>DAJ_L5</td>\n",
              "      <td>DOW_OSS</td>\n",
              "      <td>DOW_OSS</td>\n",
              "      <td>53.2648</td>\n",
              "      <td>1.378767</td>\n",
              "      <td>DAJ_L5</td>\n",
              "      <td>53.225883</td>\n",
              "      <td>1.397750</td>\n",
              "      <td>11</td>\n",
              "      <td>4</td>\n",
              "      <td>0.903736</td>\n",
              "      <td>0.05</td>\n",
              "    </tr>\n",
              "  </tbody>\n",
              "</table>\n",
              "<p>67 rows \u00d7 12 columns</p>\n",
              "</div>"
            ],
            "text/plain": [
              "        id substation_id substation_name  substation_latitude  \\\n",
              "0   DAE_A1       DOW_OSS         DOW_OSS              53.2648   \n",
              "1   DAD_A2       DOW_OSS         DOW_OSS              53.2648   \n",
              "2   DAC_A3       DOW_OSS         DOW_OSS              53.2648   \n",
              "3   DAB_A4       DOW_OSS         DOW_OSS              53.2648   \n",
              "4   DAA_A5       DOW_OSS         DOW_OSS              53.2648   \n",
              "..     ...           ...             ...                  ...   \n",
              "62  DCE_L1       DOW_OSS         DOW_OSS              53.2648   \n",
              "63  DAF_L2       DOW_OSS         DOW_OSS              53.2648   \n",
              "64  DAG_L3       DOW_OSS         DOW_OSS              53.2648   \n",
              "65  DAH_L4       DOW_OSS         DOW_OSS              53.2648   \n",
              "66  DAJ_L5       DOW_OSS         DOW_OSS              53.2648   \n",
              "\n",
              "    substation_longitude turbine_name  turbine_latitude  turbine_longitude  \\\n",
              "0               1.378767       DAE_A1         53.243950           1.358783   \n",
              "1               1.378767       DAD_A2         53.248467           1.349033   \n",
              "2               1.378767       DAC_A3         53.252983           1.339283   \n",
              "3               1.378767       DAB_A4         53.257500           1.329550   \n",
              "4               1.378767       DAA_A5         53.262017           1.319800   \n",
              "..                   ...          ...               ...                ...   \n",
              "62              1.378767       DCE_L1         53.251783           1.368833   \n",
              "63              1.378767       DAF_L2         53.239433           1.368533   \n",
              "64              1.378767       DAG_L3         53.234917           1.378250   \n",
              "65              1.378767       DAH_L4         53.230400           1.388000   \n",
              "66              1.378767       DAJ_L5         53.225883           1.397750   \n",
              "\n",
              "    string  order  cable_length  bury_speed  \n",
              "0        0      0      3.135279        0.50  \n",
              "1        0      1      0.993860        0.50  \n",
              "2        0      2      0.993719        0.50  \n",
              "3        0      3      0.992699        0.50  \n",
              "4        0      4      0.993673        0.50  \n",
              "..     ...    ...           ...         ...  \n",
              "62      11      0      1.712822        0.05  \n",
              "63      11      1      1.483318        0.05  \n",
              "64      11      2      0.901721        0.05  \n",
              "65      11      3      0.903679        0.05  \n",
              "66      11      4      0.903736        0.05  \n",
              "\n",
              "[67 rows x 12 columns]"
            ]
          },
          "execution_count": 23,
          "metadata": {},
          "output_type": "execute_result"
        }
      ],
      "source": [
        "array_custom.location_data"
      ]
    },
    {
      "cell_type": "markdown",
      "metadata": {},
      "source": [
        "#### See also that the costs have increased again!"
      ]
    },
    {
      "cell_type": "code",
      "execution_count": 24,
      "metadata": {},
      "outputs": [
        {
          "name": "stdout",
          "output_type": "stream",
          "text": [
            "Cable Type      |      Cost in USD\n",
            "XLPE_400mm_33kV | $  22,269,793.09\n",
            "XLPE_630mm_33kV | $   5,355,606.02\n",
            "Total           | $  27,625,399.10\n"
          ]
        }
      ],
      "source": [
        "print(f\"{'Cable Type':<16}|  {'Cost in USD':>15}\")\n",
        "for cable, cost in array_custom.cost_by_type.items():\n",
        "    print(f\"{cable:<16}| ${cost:>15,.2f}\")\n",
        "    \n",
        "print(f\"{'Total':<16}| ${array_custom.total_cable_cost:>15,.2f}\")"
      ]
    },
    {
      "cell_type": "code",
      "execution_count": null,
      "metadata": {},
      "outputs": [],
      "source": []
    },
    {
      "cell_type": "markdown",
      "metadata": {},
      "source": [
        "<a id=\"running\"></a>\n",
        "# Let's run some simulations!\n",
        "We can now compare cases 2-4 to see how the installation cost will vary."
      ]
    },
    {
      "cell_type": "markdown",
      "metadata": {},
      "source": [
        "#### First, we have to create a configuration dictionary for each of the 3 main cases we'll be simulating for installations, corresponding to the configuration file from the tests library. Then, we'll update eeach with the `design_result` of each of the 3 cases that we defined above."
      ]
    },
    {
      "cell_type": "code",
      "execution_count": 25,
      "metadata": {},
      "outputs": [],
      "source": [
        "base_config = library.extract_library_specs(\"config\", \"example_array_cable_install\")\n",
        "\n",
        "#Case 2\n",
        "array_case2 = deepcopy(base_config)\n",
        "array_case2[\"array_system\"] = array.design_result[\"array_system\"]\n",
        "\n",
        "# Case 3\n",
        "array_case3 = deepcopy(base_config)\n",
        "array_case3[\"array_system\"] = array_distance.design_result[\"array_system\"]\n",
        "\n",
        "# Case 4\n",
        "array_case4 = deepcopy(base_config)\n",
        "array_case4[\"array_system\"] = array_exclusion.design_result[\"array_system\"]\n",
        "\n",
        "# Case 5\n",
        "array_case5 = deepcopy(base_config)\n",
        "array_case5[\"array_system\"] = array_custom.design_result[\"array_system\"]"
      ]
    },
    {
      "cell_type": "markdown",
      "metadata": {},
      "source": [
        "#### Instantiate the simulations"
      ]
    },
    {
      "cell_type": "code",
      "execution_count": 26,
      "metadata": {},
      "outputs": [],
      "source": [
        "sim2 = ArrayCableInstallation(array_case2)\n",
        "sim3 = ArrayCableInstallation(array_case3)\n",
        "sim4 = ArrayCableInstallation(array_case4)\n",
        "sim5 = ArrayCableInstallation(array_case5)"
      ]
    },
    {
      "cell_type": "markdown",
      "metadata": {},
      "source": [
        "#### Run the simulations\n",
        "\n",
        "We can see that both the installation cost and the time required to complete the simulation have all increased here, which corresponds to the increased cable lengths and changes to the burial speeds defined above."
      ]
    },
    {
      "cell_type": "code",
      "execution_count": 27,
      "metadata": {},
      "outputs": [
        {
          "name": "stdout",
          "output_type": "stream",
          "text": [
            "Simulation                 |  Cost (in USD) |  Time (in hours)\n",
            "straight-line distance     | $11,444,455.51 |            2,211\n",
            "distance-based coordinates | $11,447,877.14 |            2,212\n",
            "with exclusions            | $11,501,377.80 |            2,222\n",
            "custom                     | $15,600,938.01 |            3,040\n"
          ]
        }
      ],
      "source": [
        "names = (\"straight-line distance\", \"distance-based coordinates\", \"with exclusions\", \"custom\")\n",
        "simulations = (sim2, sim3, sim4, sim5)\n",
        "\n",
        "print(f\"{'Simulation':<26} | {'Cost (in USD)':>14} | {'Time (in hours)':>16}\")\n",
        "for name, simulation in zip(names, simulations):\n",
        "    simulation.run()\n",
        "    cost = simulation.installation_capex\n",
        "    time = simulation.total_phase_time\n",
        "    print(f\"{name:<26} | ${cost:>13,.2f} | {time:>16,.0f}\")"
      ]
    },
    {
      "cell_type": "code",
      "execution_count": null,
      "metadata": {},
      "outputs": [],
      "source": []
    },
    {
      "cell_type": "markdown",
      "metadata": {},
      "source": [
        "<a id=\"project_manager\"></a>\n",
        "## Let's put this all together\n",
        "\n",
        "#### Using `ProjectManager` we will run Case 4 from design to installation.\n",
        "\n",
        "We'll see here at the end that we end up with the same results running a custom array cabling project piecemeal and as a whole."
      ]
    },
    {
      "cell_type": "code",
      "execution_count": 28,
      "metadata": {},
      "outputs": [
        {
          "data": {
            "text/plain": [
              "{'design_phases': ['CustomArraySystemDesign'],\n",
              " 'install_phases': ['ArrayCableInstallation'],\n",
              " 'plant': {'layout': 'custom', 'num_turbines': 67},\n",
              " 'port': {'monthly_rate': 10000},\n",
              " 'site': {'depth': 20, 'distance': 50},\n",
              " 'turbine': 'SWT_6MW_154m_110m',\n",
              " 'array_system_design': {'cables': ['XLPE_400mm_33kV', 'XLPE_630mm_33kV'],\n",
              "  'location_data': 'dudgeon_custom',\n",
              "  'distance': False},\n",
              " 'array_cable_install_vessel': 'example_cable_lay_vessel',\n",
              " 'array_cable_bury_vessel': 'example_cable_lay_vessel'}"
            ]
          },
          "execution_count": 28,
          "metadata": {},
          "output_type": "execute_result"
        }
      ],
      "source": [
        "config = library.extract_library_specs(\"config\", \"example_custom_array_project_manager\")\n",
        "config"
      ]
    },
    {
      "cell_type": "code",
      "execution_count": 29,
      "metadata": {},
      "outputs": [],
      "source": [
        "project = ProjectManager(config)\n",
        "project.run()"
      ]
    },
    {
      "cell_type": "code",
      "execution_count": 30,
      "metadata": {},
      "outputs": [
        {
          "name": "stdout",
          "output_type": "stream",
          "text": [
            "Custom Design        | $27,625,399.10\n",
            "Custom Installation  | $15,600,938.01\n",
            "Total Cost.          | $43,226,337.11\n",
            "Project Manager Cost | $43,226,337.11\n"
          ]
        }
      ],
      "source": [
        "total = array_custom.total_cable_cost + sim5.installation_capex\n",
        "\n",
        "print(f\"Custom Design        | ${array_custom.total_cable_cost:>13,.2f}\")\n",
        "print(f\"Custom Installation  | ${sim5.installation_capex:>13,.2f}\")\n",
        "print(f\"Total Cost.          | ${total:>13,.2f}\")\n",
        "print(f\"Project Manager Cost | ${project.bos_capex:>13,.2f}\")"
      ]
    },
    {
      "cell_type": "code",
      "execution_count": null,
      "metadata": {},
      "outputs": [],
      "source": []
    },
    {
      "cell_type": "code",
      "execution_count": null,
      "metadata": {},
      "outputs": [],
      "source": []
    }
  ],
  "metadata": {
    "kernelspec": {
      "display_name": "Python 3",
      "language": "python",
      "name": "python3"
    },
    "language_info": {
      "codemirror_mode": {
        "name": "ipython",
        "version": 3
      },
      "file_extension": ".py",
      "mimetype": "text/x-python",
      "name": "python",
      "nbconvert_exporter": "python",
      "pygments_lexer": "ipython3",
      "version": "3.7.3"
    }
  },
  "nbformat": 4,
  "nbformat_minor": 4
}
