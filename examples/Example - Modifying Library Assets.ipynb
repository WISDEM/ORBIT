{
  "cells": [
    {
      "cell_type": "markdown",
      "metadata": {},
      "source": [
        "### Example - Library Assets\n",
        "\n",
        "ORBIT stores the inputs associated with vessels, cables and turbines in a library in order to allow for modeling of discrete options of these inputs as well as to keep the input configurations cleaner. For example, all of the inputs related to the WTIV that we have been using to this point, are stored in the 'example_wtiv.yaml' file in the ORBIT library."
      ]
    },
    {
      "cell_type": "markdown",
      "metadata": {},
      "source": [
        "#### Configuring the library"
      ]
    },
    {
      "cell_type": "code",
      "execution_count": 1,
      "metadata": {},
      "outputs": [
        {
          "name": "stdout",
          "output_type": "stream",
          "text": [
            "ORBIT library intialized at '/Users/jnunemak/Fun/repos/ORBIT/examples/library'\n"
          ]
        }
      ],
      "source": [
        "# By default, ORBIT initializes the library at '~/ORBIT/library/'\n",
        "# The library location can also be changed by using the following:\n",
        "\n",
        "import os\n",
        "from ORBIT.core.library import initialize_library\n",
        "initialize_library(os.path.join(os.getcwd(), \"library\"))"
      ]
    },
    {
      "cell_type": "code",
      "execution_count": 3,
      "metadata": {},
      "outputs": [],
      "source": [
        "# This allows for proprietary vessel/cable/turbine information to be stored outside of the model repo.\n",
        "\n",
        "# Note: The library functions will search for library assets at an external library first, but will\n",
        "# search the internal ORBIT library if it is not found. This means that the example library files\n",
        "# don't need to be copied to an external library to be used."
      ]
    },
    {
      "cell_type": "markdown",
      "metadata": {},
      "source": [
        "#### Vessels"
      ]
    },
    {
      "cell_type": "code",
      "execution_count": 4,
      "metadata": {},
      "outputs": [],
      "source": [
        "# Navigate to '~/ORBIT/library/vessels/example_wtiv.yaml':"
      ]
    },
    {
      "cell_type": "raw",
      "metadata": {},
      "source": [
        "crane_specs:\n",
        "  max_hook_height: 100    # m\n",
        "  max_lift: 1200          # t\n",
        "  max_windspeed: 15       # m/s\n",
        "jacksys_specs:\n",
        "  leg_length: 110         # m\n",
        "  max_depth: 75           # m\n",
        "  max_extension: 85       # m\n",
        "  speed_above_depth: 1    # m/min\n",
        "  speed_below_depth: 2.5  # m/min\n",
        "storage_specs:\n",
        "  max_cargo: 8000         # t\n",
        "  max_deck_load: 15       # t/m^2\n",
        "  max_deck_space: 4000    # m^2\n",
        "transport_specs:\n",
        "  max_waveheight: 3       # m\n",
        "  max_windspeed: 20       # m/s\n",
        "  transit_speed: 10       # km/h\n",
        "vessel_specs:\n",
        "  day_rate: 180000        # USD/day\n",
        "  mobilization_days: 7    # days\n",
        "  mobilization_mult: 1    # Mobilization multiplier applied to 'day_rate'\n"
      ]
    },
    {
      "cell_type": "code",
      "execution_count": 3,
      "metadata": {},
      "outputs": [],
      "source": [
        "# This vessel file defines a generic WTIV that could be used for installation of turbines, substructures, etc.\n",
        "# The vessel file is organized by different subcomponents, eg. crane, jacking system, storage.\n",
        "\n",
        "# The weather constraints for the vessel are also defined in 'transport_specs' and 'crane_specs'\n",
        "# These constraints are applied to underlying processes that the vessel performs in the simulation."
      ]
    },
    {
      "cell_type": "code",
      "execution_count": 5,
      "metadata": {},
      "outputs": [],
      "source": [
        "# Navigate to '~/ORBIT/library/vessels/example_feeder.yaml':"
      ]
    },
    {
      "cell_type": "raw",
      "metadata": {},
      "source": [
        "crane_specs:\n",
        "  max_lift: 500             # t\n",
        "jacksys_specs:\n",
        "  leg_length: 85            # m\n",
        "  max_depth: 40             # m\n",
        "  max_extension: 60         # m\n",
        "  speed_above_depth: 0.5    # m/min\n",
        "  speed_below_depth: 0.5    # m/min\n",
        "storage_specs:\n",
        "  max_cargo: 1200           # t\n",
        "  max_deck_load: 8          # t/m^2\n",
        "  max_deck_space: 1000      # m^2\n",
        "transport_specs:\n",
        "  max_waveheight: 2.5       # m\n",
        "  max_windspeed: 20         # m/s\n",
        "  transit_speed: 6          # km/h\n",
        "vessel_specs:\n",
        "  day_rate: 75000           # USD/day\n"
      ]
    },
    {
      "cell_type": "markdown",
      "metadata": {},
      "source": [
        "#### Turbines"
      ]
    },
    {
      "cell_type": "code",
      "execution_count": null,
      "metadata": {},
      "outputs": [],
      "source": [
        "# Turbine files contain information on a given turbine and the associated subcomponents.\n",
        "# See below for an example 6MW turbine"
      ]
    },
    {
      "cell_type": "raw",
      "metadata": {},
      "source": [
        "blade:\n",
        "  deck_space: 100     # m^2\n",
        "  length: 75          # m\n",
        "  mass: 100           # t\n",
        "hub_height: 110       # m\n",
        "nacelle:\n",
        "  deck_space: 200     # m^2\n",
        "  mass: 360           # t\n",
        "name: SWT-6MW-154\n",
        "rotor_diameter: 154   # m\n",
        "tower:\n",
        "  deck_space: 36      # m^2\n",
        "  sections: 2         # n\n",
        "  length: 110         # m\n",
        "  mass: 150           # t\n",
        "turbine_rating: 6     # MW\n",
        "rated_windspeed: 13   # m/s\n"
      ]
    },
    {
      "cell_type": "code",
      "execution_count": null,
      "metadata": {},
      "outputs": [],
      "source": [
        "# These inputs will affect which vessels are able to install the turbine as well as the underyling process times.\n",
        "# Deck space is a measure of the area that the component would take up on a transportation vessel."
      ]
    }
  ],
  "metadata": {
    "kernelspec": {
      "display_name": "Python 3",
      "language": "python",
      "name": "python3"
    },
    "language_info": {
      "codemirror_mode": {
        "name": "ipython",
        "version": 3
      },
      "file_extension": ".py",
      "mimetype": "text/x-python",
      "name": "python",
      "nbconvert_exporter": "python",
      "pygments_lexer": "ipython3",
      "version": "3.7.3"
    }
  },
  "nbformat": 4,
  "nbformat_minor": 4
}
