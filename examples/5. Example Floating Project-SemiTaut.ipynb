{
  "cells": [
    {
      "cell_type": "code",
      "execution_count": null,
      "metadata": {},
      "outputs": [],
      "source": []
    },
    {
      "cell_type": "markdown",
      "metadata": {},
      "source": [
        "#### Jake Nunemaker\n",
        "\n",
        "National Renewable Energy Lab\n",
        "\n",
        "Last updated: 12/23/2020"
      ]
    },
    {
      "cell_type": "code",
      "execution_count": 28,
      "metadata": {},
      "outputs": [
        {
          "name": "stderr",
          "output_type": "stream",
          "text": [
            "UserWarning: /var/folders/90/1lkt657x3n1cw5x65j3lfgd5406fb8/T/ipykernel_31846/3472246521.py:7\n",
            "Could not infer format, so each element will be parsed individually, falling back to `dateutil`. To ensure parsing is consistent and as-expected, please specify a format."
          ]
        }
      ],
      "source": [
        "import pandas as pd\n",
        "from pprint import pprint\n",
        "from ORBIT import ProjectManager, load_config\n",
        "\n",
        "import warnings\n",
        "warnings.filterwarnings(\"default\")\n",
        "weather = pd.read_csv(\"data/example_weather.csv\", parse_dates=[\"datetime\"])\\\n",
        "            .set_index(\"datetime\")"
      ]
    },
    {
      "cell_type": "markdown",
      "metadata": {},
      "source": [
        "### Load the project configuration"
      ]
    },
    {
      "cell_type": "code",
      "execution_count": 29,
      "metadata": {},
      "outputs": [
        {
          "name": "stdout",
          "output_type": "stream",
          "text": [
            "Num turbines: 50\n",
            "Turbine: 12MW_generic\n",
            "\n",
            "Site: {'depth': 900, 'distance': 100, 'distance_to_landfall': 100}\n"
          ]
        }
      ],
      "source": [
        "fixed_config = load_config(\"configs/example_floating_project_SemiTaut.yaml\")\n",
        "\n",
        "print(f\"Num turbines: {fixed_config['plant']['num_turbines']}\")\n",
        "print(f\"Turbine: {fixed_config['turbine']}\")\n",
        "print(f\"\\nSite: {fixed_config['site']}\")"
      ]
    },
    {
      "cell_type": "markdown",
      "metadata": {},
      "source": [
        "### Phases"
      ]
    },
    {
      "cell_type": "code",
      "execution_count": 30,
      "metadata": {},
      "outputs": [
        {
          "name": "stdout",
          "output_type": "stream",
          "text": [
            "Design phases: ['ArraySystemDesign', 'ElectricalDesign', 'SemiTautMooringSystemDesign', 'SemiSubmersibleDesign']\n",
            "\n",
            "Install phases: ['ArrayCableInstallation', 'ExportCableInstallation', 'MooredSubInstallation', 'MooringSystemInstallation', 'FloatingSubstationInstallation']\n"
          ]
        }
      ],
      "source": [
        "print(f\"Design phases: {fixed_config['design_phases']}\")\n",
        "print(f\"\\nInstall phases: {list(fixed_config['install_phases'].keys())}\")\n",
        "# This now says \"SemiTautMooringSystemDesign\" in the design phases"
      ]
    },
    {
      "cell_type": "markdown",
      "metadata": {},
      "source": [
        "### Run"
      ]
    },
    {
      "cell_type": "code",
      "execution_count": 31,
      "metadata": {},
      "outputs": [
        {
          "name": "stdout",
          "output_type": "stream",
          "text": [
            "2\n"
          ]
        },
        {
          "name": "stderr",
          "output_type": "stream",
          "text": [
            "UserWarning: /Users/nriccobo/GitHub/ORBIT/ORBIT/phases/install/quayside_assembly_tow/moored.py:193\n",
            "No ['ahts_vessel'] specified. num_ahts set to 0. ahts_vessel will be required in future releases.\n",
            "DeprecationWarning: /Users/nriccobo/GitHub/ORBIT/ORBIT/phases/install/quayside_assembly_tow/moored.py:93\n",
            "support_vessel will be deprecated and replaced with towing_vessels and ahts_vessel in the towing groups.\n",
            "DeprecationWarning: /Users/nriccobo/GitHub/ORBIT/ORBIT/phases/install/quayside_assembly_tow/moored.py:93\n",
            "station_keeping_vessels will be deprecated and replaced with towing_vessels and ahts_vessels in the towing groups.\n"
          ]
        }
      ],
      "source": [
        "project = ProjectManager(fixed_config, weather=weather)\n",
        "project.run()"
      ]
    },
    {
      "cell_type": "markdown",
      "metadata": {},
      "source": [
        "### Top Level Outputs"
      ]
    },
    {
      "cell_type": "code",
      "execution_count": 32,
      "metadata": {},
      "outputs": [
        {
          "name": "stdout",
          "output_type": "stream",
          "text": [
            "Installation CapEx:  345 M\n",
            "System CapEx:       1333 M\n",
            "Turbine CapEx:       780 M\n",
            "Soft CapEx:          387 M\n",
            "Total CapEx:        2997 M\n",
            "\n",
            "Installation Time: 35527 h\n"
          ]
        }
      ],
      "source": [
        "print(f\"Installation CapEx:  {project.installation_capex/1e6:.0f} M\")\n",
        "print(f\"System CapEx:       {project.system_capex/1e6:.0f} M\")\n",
        "print(f\"Turbine CapEx:       {project.turbine_capex/1e6:.0f} M\")\n",
        "print(f\"Soft CapEx:          {project.soft_capex/1e6:.0f} M\")\n",
        "print(f\"Total CapEx:        {project.total_capex/1e6:.0f} M\")\n",
        "\n",
        "print(f\"\\nInstallation Time: {project.installation_time:.0f} h\")"
      ]
    },
    {
      "cell_type": "markdown",
      "metadata": {},
      "source": [
        "### CapEx Breakdown"
      ]
    },
    {
      "cell_type": "code",
      "execution_count": 33,
      "metadata": {},
      "outputs": [
        {
          "data": {
            "text/plain": [
              "{'Array System': 56983076.60642063,\n",
              " 'Export System': 259281192.288,\n",
              " 'Substructure': 630709636.6,\n",
              " 'Mooring System': 327467880.0,\n",
              " 'Offshore Substation': 58536861.93724438,\n",
              " 'Array System Installation': 63027746.845681354,\n",
              " 'Export System Installation': 148076127.6910655,\n",
              " 'Substructure Installation': 78801350.29354209,\n",
              " 'Mooring System Installation': 48485331.05022831,\n",
              " 'Offshore Substation Installation': 7070795.281582953,\n",
              " 'Turbine': 780000000,\n",
              " 'Soft': 387000000,\n",
              " 'Project': 151250000.0}"
            ]
          },
          "execution_count": 33,
          "metadata": {},
          "output_type": "execute_result"
        }
      ],
      "source": [
        "project.capex_breakdown"
      ]
    },
    {
      "cell_type": "code",
      "execution_count": 34,
      "metadata": {},
      "outputs": [
        {
          "data": {
            "text/plain": [
              "{'Array System': 94.97179434403438,\n",
              " 'Export System': 432.13532047999996,\n",
              " 'Substructure': 1051.1827276666668,\n",
              " 'Mooring System': 545.7798,\n",
              " 'Offshore Substation': 97.56143656207396,\n",
              " 'Array System Installation': 105.04624474280226,\n",
              " 'Export System Installation': 246.79354615177581,\n",
              " 'Substructure Installation': 131.33558382257016,\n",
              " 'Mooring System Installation': 80.80888508371386,\n",
              " 'Offshore Substation Installation': 11.784658802638255,\n",
              " 'Turbine': 1300.0,\n",
              " 'Soft': 645.0,\n",
              " 'Project': 252.08333333333334}"
            ]
          },
          "execution_count": 34,
          "metadata": {},
          "output_type": "execute_result"
        }
      ],
      "source": [
        "project.capex_breakdown_per_kw"
      ]
    },
    {
      "cell_type": "markdown",
      "metadata": {},
      "source": [
        "### Installation Actions"
      ]
    },
    {
      "cell_type": "code",
      "execution_count": 35,
      "metadata": {},
      "outputs": [
        {
          "data": {
            "text/html": [
              "<div>\n",
              "<style scoped>\n",
              "    .dataframe tbody tr th:only-of-type {\n",
              "        vertical-align: middle;\n",
              "    }\n",
              "\n",
              "    .dataframe tbody tr th {\n",
              "        vertical-align: top;\n",
              "    }\n",
              "\n",
              "    .dataframe thead th {\n",
              "        text-align: right;\n",
              "    }\n",
              "</style>\n",
              "<table border=\"1\" class=\"dataframe\">\n",
              "  <thead>\n",
              "    <tr style=\"text-align: right;\">\n",
              "      <th></th>\n",
              "      <th>cost_multiplier</th>\n",
              "      <th>agent</th>\n",
              "      <th>action</th>\n",
              "      <th>duration</th>\n",
              "      <th>cost</th>\n",
              "      <th>level</th>\n",
              "      <th>time</th>\n",
              "      <th>phase</th>\n",
              "      <th>location</th>\n",
              "      <th>phase_name</th>\n",
              "      <th>max_waveheight</th>\n",
              "      <th>max_windspeed</th>\n",
              "      <th>transit_speed</th>\n",
              "      <th>num_vessels</th>\n",
              "      <th>num_ahts_vessels</th>\n",
              "    </tr>\n",
              "  </thead>\n",
              "  <tbody>\n",
              "    <tr>\n",
              "      <th>0</th>\n",
              "      <td>0.5</td>\n",
              "      <td>Array Cable Installation Vessel</td>\n",
              "      <td>Mobilize</td>\n",
              "      <td>72.000000</td>\n",
              "      <td>3.375000e+05</td>\n",
              "      <td>ACTION</td>\n",
              "      <td>0.000000</td>\n",
              "      <td>ArrayCableInstallation</td>\n",
              "      <td>NaN</td>\n",
              "      <td>NaN</td>\n",
              "      <td>NaN</td>\n",
              "      <td>NaN</td>\n",
              "      <td>NaN</td>\n",
              "      <td>NaN</td>\n",
              "      <td>NaN</td>\n",
              "    </tr>\n",
              "    <tr>\n",
              "      <th>1</th>\n",
              "      <td>0.5</td>\n",
              "      <td>Export Cable Installation Vessel</td>\n",
              "      <td>Mobilize</td>\n",
              "      <td>72.000000</td>\n",
              "      <td>3.375000e+05</td>\n",
              "      <td>ACTION</td>\n",
              "      <td>0.000000</td>\n",
              "      <td>ExportCableInstallation</td>\n",
              "      <td>NaN</td>\n",
              "      <td>NaN</td>\n",
              "      <td>NaN</td>\n",
              "      <td>NaN</td>\n",
              "      <td>NaN</td>\n",
              "      <td>NaN</td>\n",
              "      <td>NaN</td>\n",
              "    </tr>\n",
              "    <tr>\n",
              "      <th>2</th>\n",
              "      <td>NaN</td>\n",
              "      <td>Onshore Construction</td>\n",
              "      <td>Onshore Construction</td>\n",
              "      <td>0.000000</td>\n",
              "      <td>1.665604e+06</td>\n",
              "      <td>ACTION</td>\n",
              "      <td>0.000000</td>\n",
              "      <td>ExportCableInstallation</td>\n",
              "      <td>Landfall</td>\n",
              "      <td>NaN</td>\n",
              "      <td>NaN</td>\n",
              "      <td>NaN</td>\n",
              "      <td>NaN</td>\n",
              "      <td>NaN</td>\n",
              "      <td>NaN</td>\n",
              "    </tr>\n",
              "    <tr>\n",
              "      <th>3</th>\n",
              "      <td>1.0</td>\n",
              "      <td>Mooring System Installation Vessel</td>\n",
              "      <td>Mobilize</td>\n",
              "      <td>168.000000</td>\n",
              "      <td>7.000000e+05</td>\n",
              "      <td>ACTION</td>\n",
              "      <td>0.000000</td>\n",
              "      <td>MooringSystemInstallation</td>\n",
              "      <td>NaN</td>\n",
              "      <td>NaN</td>\n",
              "      <td>NaN</td>\n",
              "      <td>NaN</td>\n",
              "      <td>NaN</td>\n",
              "      <td>NaN</td>\n",
              "      <td>NaN</td>\n",
              "    </tr>\n",
              "    <tr>\n",
              "      <th>4</th>\n",
              "      <td>NaN</td>\n",
              "      <td>Substation Assembly Line 1</td>\n",
              "      <td>Substation Substructure Assembly</td>\n",
              "      <td>0.000000</td>\n",
              "      <td>0.000000e+00</td>\n",
              "      <td>ACTION</td>\n",
              "      <td>0.000000</td>\n",
              "      <td>FloatingSubstationInstallation</td>\n",
              "      <td>NaN</td>\n",
              "      <td>NaN</td>\n",
              "      <td>NaN</td>\n",
              "      <td>NaN</td>\n",
              "      <td>NaN</td>\n",
              "      <td>NaN</td>\n",
              "      <td>NaN</td>\n",
              "    </tr>\n",
              "    <tr>\n",
              "      <th>...</th>\n",
              "      <td>...</td>\n",
              "      <td>...</td>\n",
              "      <td>...</td>\n",
              "      <td>...</td>\n",
              "      <td>...</td>\n",
              "      <td>...</td>\n",
              "      <td>...</td>\n",
              "      <td>...</td>\n",
              "      <td>...</td>\n",
              "      <td>...</td>\n",
              "      <td>...</td>\n",
              "      <td>...</td>\n",
              "      <td>...</td>\n",
              "      <td>...</td>\n",
              "      <td>...</td>\n",
              "    </tr>\n",
              "    <tr>\n",
              "      <th>2988</th>\n",
              "      <td>NaN</td>\n",
              "      <td>Export Cable Installation Vessel</td>\n",
              "      <td>Pull In Cable</td>\n",
              "      <td>5.500000</td>\n",
              "      <td>5.156250e+04</td>\n",
              "      <td>ACTION</td>\n",
              "      <td>12017.280762</td>\n",
              "      <td>ExportCableInstallation</td>\n",
              "      <td>NaN</td>\n",
              "      <td>ExportCableInstallation</td>\n",
              "      <td>NaN</td>\n",
              "      <td>NaN</td>\n",
              "      <td>NaN</td>\n",
              "      <td>NaN</td>\n",
              "      <td>NaN</td>\n",
              "    </tr>\n",
              "    <tr>\n",
              "      <th>2989</th>\n",
              "      <td>NaN</td>\n",
              "      <td>Export Cable Installation Vessel</td>\n",
              "      <td>Terminate Cable</td>\n",
              "      <td>5.500000</td>\n",
              "      <td>5.156250e+04</td>\n",
              "      <td>ACTION</td>\n",
              "      <td>12022.780762</td>\n",
              "      <td>ExportCableInstallation</td>\n",
              "      <td>NaN</td>\n",
              "      <td>ExportCableInstallation</td>\n",
              "      <td>NaN</td>\n",
              "      <td>NaN</td>\n",
              "      <td>NaN</td>\n",
              "      <td>NaN</td>\n",
              "      <td>NaN</td>\n",
              "    </tr>\n",
              "    <tr>\n",
              "      <th>2990</th>\n",
              "      <td>NaN</td>\n",
              "      <td>Export Cable Installation Vessel</td>\n",
              "      <td>Transit</td>\n",
              "      <td>8.000000</td>\n",
              "      <td>7.500000e+04</td>\n",
              "      <td>ACTION</td>\n",
              "      <td>12030.780762</td>\n",
              "      <td>ExportCableInstallation</td>\n",
              "      <td>NaN</td>\n",
              "      <td>NaN</td>\n",
              "      <td>NaN</td>\n",
              "      <td>NaN</td>\n",
              "      <td>NaN</td>\n",
              "      <td>NaN</td>\n",
              "      <td>NaN</td>\n",
              "    </tr>\n",
              "    <tr>\n",
              "      <th>2991</th>\n",
              "      <td>NaN</td>\n",
              "      <td>Export Cable Installation Vessel</td>\n",
              "      <td>Delay</td>\n",
              "      <td>26.000000</td>\n",
              "      <td>2.437500e+05</td>\n",
              "      <td>ACTION</td>\n",
              "      <td>12056.780762</td>\n",
              "      <td>ExportCableInstallation</td>\n",
              "      <td>NaN</td>\n",
              "      <td>NaN</td>\n",
              "      <td>NaN</td>\n",
              "      <td>NaN</td>\n",
              "      <td>NaN</td>\n",
              "      <td>NaN</td>\n",
              "      <td>NaN</td>\n",
              "    </tr>\n",
              "    <tr>\n",
              "      <th>2992</th>\n",
              "      <td>NaN</td>\n",
              "      <td>Export Cable Installation Vessel</td>\n",
              "      <td>Transit</td>\n",
              "      <td>0.695652</td>\n",
              "      <td>6.521739e+03</td>\n",
              "      <td>ACTION</td>\n",
              "      <td>12057.476414</td>\n",
              "      <td>ExportCableInstallation</td>\n",
              "      <td>NaN</td>\n",
              "      <td>NaN</td>\n",
              "      <td>NaN</td>\n",
              "      <td>NaN</td>\n",
              "      <td>NaN</td>\n",
              "      <td>NaN</td>\n",
              "      <td>NaN</td>\n",
              "    </tr>\n",
              "  </tbody>\n",
              "</table>\n",
              "<p>2993 rows \u00d7 15 columns</p>\n",
              "</div>"
            ],
            "text/plain": [
              "      cost_multiplier                               agent  \\\n",
              "0                 0.5     Array Cable Installation Vessel   \n",
              "1                 0.5    Export Cable Installation Vessel   \n",
              "2                 NaN                Onshore Construction   \n",
              "3                 1.0  Mooring System Installation Vessel   \n",
              "4                 NaN          Substation Assembly Line 1   \n",
              "...               ...                                 ...   \n",
              "2988              NaN    Export Cable Installation Vessel   \n",
              "2989              NaN    Export Cable Installation Vessel   \n",
              "2990              NaN    Export Cable Installation Vessel   \n",
              "2991              NaN    Export Cable Installation Vessel   \n",
              "2992              NaN    Export Cable Installation Vessel   \n",
              "\n",
              "                                action    duration          cost   level  \\\n",
              "0                             Mobilize   72.000000  3.375000e+05  ACTION   \n",
              "1                             Mobilize   72.000000  3.375000e+05  ACTION   \n",
              "2                 Onshore Construction    0.000000  1.665604e+06  ACTION   \n",
              "3                             Mobilize  168.000000  7.000000e+05  ACTION   \n",
              "4     Substation Substructure Assembly    0.000000  0.000000e+00  ACTION   \n",
              "...                                ...         ...           ...     ...   \n",
              "2988                     Pull In Cable    5.500000  5.156250e+04  ACTION   \n",
              "2989                   Terminate Cable    5.500000  5.156250e+04  ACTION   \n",
              "2990                           Transit    8.000000  7.500000e+04  ACTION   \n",
              "2991                             Delay   26.000000  2.437500e+05  ACTION   \n",
              "2992                           Transit    0.695652  6.521739e+03  ACTION   \n",
              "\n",
              "              time                           phase  location  \\\n",
              "0         0.000000          ArrayCableInstallation       NaN   \n",
              "1         0.000000         ExportCableInstallation       NaN   \n",
              "2         0.000000         ExportCableInstallation  Landfall   \n",
              "3         0.000000       MooringSystemInstallation       NaN   \n",
              "4         0.000000  FloatingSubstationInstallation       NaN   \n",
              "...            ...                             ...       ...   \n",
              "2988  12017.280762         ExportCableInstallation       NaN   \n",
              "2989  12022.780762         ExportCableInstallation       NaN   \n",
              "2990  12030.780762         ExportCableInstallation       NaN   \n",
              "2991  12056.780762         ExportCableInstallation       NaN   \n",
              "2992  12057.476414         ExportCableInstallation       NaN   \n",
              "\n",
              "                   phase_name  max_waveheight  max_windspeed  transit_speed  \\\n",
              "0                         NaN             NaN            NaN            NaN   \n",
              "1                         NaN             NaN            NaN            NaN   \n",
              "2                         NaN             NaN            NaN            NaN   \n",
              "3                         NaN             NaN            NaN            NaN   \n",
              "4                         NaN             NaN            NaN            NaN   \n",
              "...                       ...             ...            ...            ...   \n",
              "2988  ExportCableInstallation             NaN            NaN            NaN   \n",
              "2989  ExportCableInstallation             NaN            NaN            NaN   \n",
              "2990                      NaN             NaN            NaN            NaN   \n",
              "2991                      NaN             NaN            NaN            NaN   \n",
              "2992                      NaN             NaN            NaN            NaN   \n",
              "\n",
              "      num_vessels  num_ahts_vessels  \n",
              "0             NaN               NaN  \n",
              "1             NaN               NaN  \n",
              "2             NaN               NaN  \n",
              "3             NaN               NaN  \n",
              "4             NaN               NaN  \n",
              "...           ...               ...  \n",
              "2988          NaN               NaN  \n",
              "2989          NaN               NaN  \n",
              "2990          NaN               NaN  \n",
              "2991          NaN               NaN  \n",
              "2992          NaN               NaN  \n",
              "\n",
              "[2993 rows x 15 columns]"
            ]
          },
          "execution_count": 35,
          "metadata": {},
          "output_type": "execute_result"
        }
      ],
      "source": [
        "pd.DataFrame(project.actions)"
      ]
    },
    {
      "cell_type": "code",
      "execution_count": 37,
      "metadata": {},
      "outputs": [
        {
          "name": "stdout",
          "output_type": "stream",
          "text": [
            "{'deck_space': 1,\n",
            " 'length': 0,\n",
            " 'mass': 1192.0,\n",
            " 'type': 'Floating',\n",
            " 'unit_cost': 3576000.0}\n",
            "{'deck_space': 1, 'mass': 2980.0, 'unit_cost': 48411504.33724438}\n",
            "{'anchor_cost': array(139426.2),\n",
            " 'anchor_mass': 20,\n",
            " 'anchor_type': 'Drag Embedment',\n",
            " 'line_cost': array(1497913.2),\n",
            " 'line_length': 1755.71,\n",
            " 'line_mass': 579.8762530880001,\n",
            " 'num_lines': 4,\n",
            " 'system_cost': 327467880.0}\n",
            "'Mooring System: $/kW'\n",
            "545.7798\n",
            "80.80888508371386\n"
          ]
        }
      ],
      "source": [
        "pprint(project.design_results[\"offshore_substation_substructure\"])\n",
        "pprint(project.design_results[\"offshore_substation_topside\"])\n",
        "pprint(project.design_results[\"mooring_system\"])\n",
        "\n",
        "pprint(\"Mooring System: $/kW\")\n",
        "pprint(project.capex_breakdown_per_kw['Mooring System'])\n",
        "pprint(project.capex_breakdown_per_kw['Mooring System Installation'])"
      ]
    }
  ],
  "metadata": {
    "kernelspec": {
      "display_name": "Python 3 (ipykernel)",
      "language": "python",
      "name": "python3"
    },
    "language_info": {
      "codemirror_mode": {
        "name": "ipython",
        "version": 3
      },
      "file_extension": ".py",
      "mimetype": "text/x-python",
      "name": "python",
      "nbconvert_exporter": "python",
      "pygments_lexer": "ipython3",
      "version": "3.8.18"
    }
  },
  "nbformat": 4,
  "nbformat_minor": 4
}
