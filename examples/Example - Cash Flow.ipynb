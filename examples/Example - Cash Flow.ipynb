{
  "cells": [
    {
      "cell_type": "markdown",
      "metadata": {},
      "source": [
        "### ORBIT Example - Cash Flow and NPV\n",
        "\n",
        "Last Updated: 07/28/2021"
      ]
    },
    {
      "cell_type": "code",
      "execution_count": 17,
      "metadata": {},
      "outputs": [],
      "source": [
        "# This notebook provides an example of the cash flow and net present value functionality in ORBIT.\n",
        "\n",
        "import os\n",
        "import pandas as pd\n",
        "import matplotlib.pyplot as plt\n",
        "from ORBIT import ProjectManager, load_config\n",
        "\n",
        "weather = pd.read_csv(\"data/example_weather.csv\", parse_dates=[\"datetime\"])\\\n",
        "            .set_index(\"datetime\")"
      ]
    },
    {
      "cell_type": "markdown",
      "metadata": {},
      "source": [
        "#### Load the Project Configuration"
      ]
    },
    {
      "cell_type": "code",
      "execution_count": 11,
      "metadata": {},
      "outputs": [],
      "source": [
        "config = load_config(\"configs/example_fixed_project.yaml\")\n",
        "\n",
        "# config['install_phases'] = {\n",
        "#     'ArrayCableInstallation': 0,\n",
        "#     'ExportCableInstallation': 2000,\n",
        "#     'MonopileInstallation': ('ScourProtectionInstallation', 0.5),\n",
        "#     'OffshoreSubstationInstallation': 0,\n",
        "#     'ScourProtectionInstallation': 0,\n",
        "#     'TurbineInstallation': ('MonopileInstallation', 0.1)\n",
        "# }"
      ]
    },
    {
      "cell_type": "markdown",
      "metadata": {},
      "source": [
        "For this example, a project with the following phases will be configured:\n",
        "\n",
        "- ProjectDevelopment\n",
        "- MonopileDesign\n",
        "- ArraySystemDesign\n",
        "- ExportSystemDesign\n",
        "- OffshoreSubstationDesign\n",
        "- ArrayCableInstallation\n",
        "- ExportCableInstallation\n",
        "- MonopileInstallation\n",
        "- OffshoreSubstationInstallation\n",
        "- TurbineInstallation\n",
        "\n",
        "The configuration below represents a \"complete\" project that will be able to produce\n",
        "power when the requisite pieces are done being installed. As each array string is able to\n",
        "generate power, the project will begin to generate additional revenue and incur\n",
        "O&M costs."
      ]
    },
    {
      "cell_type": "code",
      "execution_count": 4,
      "metadata": {},
      "outputs": [
        {
          "name": "stdout",
          "output_type": "stream",
          "text": [
            "ORBIT library intialized at '/Users/jnunemak/Fun/repos/ORBIT/library'\n"
          ]
        }
      ],
      "source": [
        "project = ProjectManager(config, weather=weather)\n",
        "project.run()"
      ]
    },
    {
      "cell_type": "markdown",
      "metadata": {},
      "source": [
        "### NPV"
      ]
    },
    {
      "cell_type": "code",
      "execution_count": 9,
      "metadata": {},
      "outputs": [
        {
          "name": "stdout",
          "output_type": "stream",
          "text": [
            "Net Present Value: 426.31 M\n"
          ]
        }
      ],
      "source": [
        "# In addition to the other results shown in previous examples, the NPV of the project is available:\n",
        "\n",
        "print(f\"Net Present Value: {project.npv/1e6:.2f} M\")"
      ]
    },
    {
      "cell_type": "markdown",
      "metadata": {},
      "source": [
        "#### Project Progress + String Energization Points\n",
        "\n",
        "The \"progress points\" of the project are tracked in the output below. These are used to determine when array strings and turbines can be energized and revenue begins."
      ]
    },
    {
      "cell_type": "code",
      "execution_count": 12,
      "metadata": {},
      "outputs": [
        {
          "data": {
            "text/plain": [
              "[('Offshore Substation', 120.0925357142857),\n",
              " ('Array String', 313.9859420289855),\n",
              " ('Array String', 618.4459420289855),\n",
              " ('Array String', 843.9059420289856),\n",
              " ('Array String', 1253.1092753623188),\n",
              " ('Substructure', 1496.5764009525235),\n",
              " ('Substructure', 1516.3403019050465),\n",
              " ('Substructure', 1534.1042028575694),\n",
              " ('Substructure', 1551.8681038100924),\n",
              " ('Substructure', 1569.6320047626155),\n",
              " ('Substructure', 1627.3959057151385),\n",
              " ('Substructure', 1675.1598066676615),\n",
              " ('Array String', 1688.5692753623189),\n",
              " ('Turbine', 1791.015338095949),\n",
              " ('Turbine', 1842.1986714292825),\n",
              " ('Substructure', 1888.7237076201845),\n",
              " ('Turbine', 1893.382004762616),\n",
              " ('Substructure', 1906.4876085727078),\n",
              " ('Array String', 1918.029275362319),\n",
              " ('Substructure', 1924.2515095252309),\n",
              " ('Substructure', 1942.015410477754),\n",
              " ('Turbine', 1944.5653380959493),\n",
              " ('Substructure', 1959.7793114302772),\n",
              " ('Substructure', 1977.5432123828004),\n",
              " ('Turbine', 1997.7486714292827)]"
            ]
          },
          "execution_count": 12,
          "metadata": {},
          "output_type": "execute_result"
        }
      ],
      "source": [
        "project.progress.data[:25]"
      ]
    },
    {
      "cell_type": "code",
      "execution_count": 13,
      "metadata": {},
      "outputs": [
        {
          "data": {
            "text/plain": [
              "([2626.8153260869567,\n",
              "  2626.8153260869567,\n",
              "  3208.7320047626126,\n",
              "  3866.13200476261,\n",
              "  4333.532004762608,\n",
              "  4829.932004762606,\n",
              "  5156.032004762603,\n",
              "  5620.432004762601,\n",
              "  5764.09867142927],\n",
              " [6, 6, 6, 6, 6, 6, 6, 6, 2])"
            ]
          },
          "execution_count": 13,
          "metadata": {},
          "output_type": "execute_result"
        }
      ],
      "source": [
        "project.progress.energize_points"
      ]
    },
    {
      "cell_type": "markdown",
      "metadata": {},
      "source": [
        "__Format__: [string installation times], [number of turbines energized]"
      ]
    },
    {
      "cell_type": "markdown",
      "metadata": {},
      "source": [
        "#### Monthly Cash Flow\n",
        "\n",
        "The monthly cash flow is shown below.\n",
        "\n",
        "- Revenue is generated as each turbine and associated array string is powered and the export system has been installed.\n",
        "- A simple generation model is implemented for now (constant NCF), however this is an area for future development.\n",
        "- The expenses from each installation phase are collected and totaled per month.\n",
        "- As turbines are powered, the project begins accruing additional operating expenses."
      ]
    },
    {
      "cell_type": "code",
      "execution_count": 15,
      "metadata": {},
      "outputs": [
        {
          "data": {
            "text/html": [
              "<div>\n",
              "<style scoped>\n",
              "    .dataframe tbody tr th:only-of-type {\n",
              "        vertical-align: middle;\n",
              "    }\n",
              "\n",
              "    .dataframe tbody tr th {\n",
              "        vertical-align: top;\n",
              "    }\n",
              "\n",
              "    .dataframe thead th {\n",
              "        text-align: right;\n",
              "    }\n",
              "</style>\n",
              "<table border=\"1\" class=\"dataframe\">\n",
              "  <thead>\n",
              "    <tr style=\"text-align: right;\">\n",
              "      <th></th>\n",
              "      <th>Expenses</th>\n",
              "      <th>Revenue</th>\n",
              "      <th>Cash Flow</th>\n",
              "    </tr>\n",
              "  </thead>\n",
              "  <tbody>\n",
              "    <tr>\n",
              "      <th>0</th>\n",
              "      <td>1.159244e+07</td>\n",
              "      <td>0.0</td>\n",
              "      <td>-1.159244e+07</td>\n",
              "    </tr>\n",
              "    <tr>\n",
              "      <th>1</th>\n",
              "      <td>9.592865e+06</td>\n",
              "      <td>0.0</td>\n",
              "      <td>-9.592865e+06</td>\n",
              "    </tr>\n",
              "    <tr>\n",
              "      <th>2</th>\n",
              "      <td>7.878374e+07</td>\n",
              "      <td>0.0</td>\n",
              "      <td>-7.878374e+07</td>\n",
              "    </tr>\n",
              "    <tr>\n",
              "      <th>3</th>\n",
              "      <td>1.748031e+07</td>\n",
              "      <td>1681920.0</td>\n",
              "      <td>-1.579839e+07</td>\n",
              "    </tr>\n",
              "    <tr>\n",
              "      <th>4</th>\n",
              "      <td>1.231171e+07</td>\n",
              "      <td>2522880.0</td>\n",
              "      <td>-9.788830e+06</td>\n",
              "    </tr>\n",
              "    <tr>\n",
              "      <th>5</th>\n",
              "      <td>1.000148e+07</td>\n",
              "      <td>4204800.0</td>\n",
              "      <td>-5.796680e+06</td>\n",
              "    </tr>\n",
              "    <tr>\n",
              "      <th>6</th>\n",
              "      <td>8.155250e+06</td>\n",
              "      <td>5045760.0</td>\n",
              "      <td>-3.109490e+06</td>\n",
              "    </tr>\n",
              "    <tr>\n",
              "      <th>7</th>\n",
              "      <td>8.677000e+06</td>\n",
              "      <td>7008000.0</td>\n",
              "      <td>-1.669000e+06</td>\n",
              "    </tr>\n",
              "    <tr>\n",
              "      <th>8</th>\n",
              "      <td>3.750000e+06</td>\n",
              "      <td>7008000.0</td>\n",
              "      <td>3.258000e+06</td>\n",
              "    </tr>\n",
              "    <tr>\n",
              "      <th>9</th>\n",
              "      <td>3.750000e+06</td>\n",
              "      <td>7008000.0</td>\n",
              "      <td>3.258000e+06</td>\n",
              "    </tr>\n",
              "    <tr>\n",
              "      <th>10</th>\n",
              "      <td>3.750000e+06</td>\n",
              "      <td>7008000.0</td>\n",
              "      <td>3.258000e+06</td>\n",
              "    </tr>\n",
              "    <tr>\n",
              "      <th>11</th>\n",
              "      <td>3.750000e+06</td>\n",
              "      <td>7008000.0</td>\n",
              "      <td>3.258000e+06</td>\n",
              "    </tr>\n",
              "    <tr>\n",
              "      <th>12</th>\n",
              "      <td>3.750000e+06</td>\n",
              "      <td>7008000.0</td>\n",
              "      <td>3.258000e+06</td>\n",
              "    </tr>\n",
              "    <tr>\n",
              "      <th>13</th>\n",
              "      <td>3.750000e+06</td>\n",
              "      <td>7008000.0</td>\n",
              "      <td>3.258000e+06</td>\n",
              "    </tr>\n",
              "    <tr>\n",
              "      <th>14</th>\n",
              "      <td>3.750000e+06</td>\n",
              "      <td>7008000.0</td>\n",
              "      <td>3.258000e+06</td>\n",
              "    </tr>\n",
              "    <tr>\n",
              "      <th>15</th>\n",
              "      <td>3.750000e+06</td>\n",
              "      <td>7008000.0</td>\n",
              "      <td>3.258000e+06</td>\n",
              "    </tr>\n",
              "    <tr>\n",
              "      <th>16</th>\n",
              "      <td>3.750000e+06</td>\n",
              "      <td>7008000.0</td>\n",
              "      <td>3.258000e+06</td>\n",
              "    </tr>\n",
              "    <tr>\n",
              "      <th>17</th>\n",
              "      <td>3.750000e+06</td>\n",
              "      <td>7008000.0</td>\n",
              "      <td>3.258000e+06</td>\n",
              "    </tr>\n",
              "    <tr>\n",
              "      <th>18</th>\n",
              "      <td>3.750000e+06</td>\n",
              "      <td>7008000.0</td>\n",
              "      <td>3.258000e+06</td>\n",
              "    </tr>\n",
              "    <tr>\n",
              "      <th>19</th>\n",
              "      <td>3.750000e+06</td>\n",
              "      <td>7008000.0</td>\n",
              "      <td>3.258000e+06</td>\n",
              "    </tr>\n",
              "    <tr>\n",
              "      <th>20</th>\n",
              "      <td>3.750000e+06</td>\n",
              "      <td>7008000.0</td>\n",
              "      <td>3.258000e+06</td>\n",
              "    </tr>\n",
              "    <tr>\n",
              "      <th>21</th>\n",
              "      <td>3.750000e+06</td>\n",
              "      <td>7008000.0</td>\n",
              "      <td>3.258000e+06</td>\n",
              "    </tr>\n",
              "    <tr>\n",
              "      <th>22</th>\n",
              "      <td>3.750000e+06</td>\n",
              "      <td>7008000.0</td>\n",
              "      <td>3.258000e+06</td>\n",
              "    </tr>\n",
              "    <tr>\n",
              "      <th>23</th>\n",
              "      <td>3.750000e+06</td>\n",
              "      <td>7008000.0</td>\n",
              "      <td>3.258000e+06</td>\n",
              "    </tr>\n",
              "    <tr>\n",
              "      <th>24</th>\n",
              "      <td>3.750000e+06</td>\n",
              "      <td>7008000.0</td>\n",
              "      <td>3.258000e+06</td>\n",
              "    </tr>\n",
              "  </tbody>\n",
              "</table>\n",
              "</div>"
            ],
            "text/plain": [
              "        Expenses    Revenue     Cash Flow\n",
              "0   1.159244e+07        0.0 -1.159244e+07\n",
              "1   9.592865e+06        0.0 -9.592865e+06\n",
              "2   7.878374e+07        0.0 -7.878374e+07\n",
              "3   1.748031e+07  1681920.0 -1.579839e+07\n",
              "4   1.231171e+07  2522880.0 -9.788830e+06\n",
              "5   1.000148e+07  4204800.0 -5.796680e+06\n",
              "6   8.155250e+06  5045760.0 -3.109490e+06\n",
              "7   8.677000e+06  7008000.0 -1.669000e+06\n",
              "8   3.750000e+06  7008000.0  3.258000e+06\n",
              "9   3.750000e+06  7008000.0  3.258000e+06\n",
              "10  3.750000e+06  7008000.0  3.258000e+06\n",
              "11  3.750000e+06  7008000.0  3.258000e+06\n",
              "12  3.750000e+06  7008000.0  3.258000e+06\n",
              "13  3.750000e+06  7008000.0  3.258000e+06\n",
              "14  3.750000e+06  7008000.0  3.258000e+06\n",
              "15  3.750000e+06  7008000.0  3.258000e+06\n",
              "16  3.750000e+06  7008000.0  3.258000e+06\n",
              "17  3.750000e+06  7008000.0  3.258000e+06\n",
              "18  3.750000e+06  7008000.0  3.258000e+06\n",
              "19  3.750000e+06  7008000.0  3.258000e+06\n",
              "20  3.750000e+06  7008000.0  3.258000e+06\n",
              "21  3.750000e+06  7008000.0  3.258000e+06\n",
              "22  3.750000e+06  7008000.0  3.258000e+06\n",
              "23  3.750000e+06  7008000.0  3.258000e+06\n",
              "24  3.750000e+06  7008000.0  3.258000e+06"
            ]
          },
          "execution_count": 15,
          "metadata": {},
          "output_type": "execute_result"
        }
      ],
      "source": [
        "df = pd.DataFrame(list(zip(\n",
        "    project.monthly_expenses.values(),\n",
        "    project.monthly_revenue.values(),\n",
        "    project.cash_flow.values()\n",
        ")), columns=[\"Expenses\", \"Revenue\", \"Cash Flow\"])\n",
        "\n",
        "df.head(25)"
      ]
    },
    {
      "cell_type": "markdown",
      "metadata": {},
      "source": [
        "### Cash Flow Figure\n",
        "\n",
        "Play around with the start dates of the configuration above. As the dates are moved around, the underlying expenses and generation will shift, affecting the net present value of the project."
      ]
    },
    {
      "cell_type": "code",
      "execution_count": 18,
      "metadata": {},
      "outputs": [
        {
          "data": {
            "image/png": "[encoded data removed]",
            "text/plain": [
              "<Figure size 1200x800 with 1 Axes>"
            ]
          },
          "metadata": {
            "needs_background": "light"
          },
          "output_type": "display_data"
        }
      ],
      "source": [
        "fig = plt.figure(figsize=(6, 4), dpi=200)\n",
        "axis = fig.add_subplot(111)\n",
        "\n",
        "last = 24\n",
        "\n",
        "df.loc[:last, \"Cash Flow\"].plot(kind='bar', ax=axis)\n",
        "\n",
        "## Formatting\n",
        "_ = axis.axhline(0, color='k', lw=0.5)\n",
        "\n",
        "# Axis Labels\n",
        "axis.set_xlabel(\"Month\")\n",
        "\n",
        "xticks = []\n",
        "for i, tick in enumerate(axis.get_xticklabels()):\n",
        "    tick.set_rotation(0)\n",
        "    tick.set_fontsize(8)\n",
        "    xticks.append(tick)\n",
        "    \n",
        "# xticks = [str(item.get_text()) for item in axis.get_xticklabels()]\n",
        "xticks[-2] = \"...\"\n",
        "xticks[-1] = str(df.index.max())\n",
        "\n",
        "_ = axis.set_xticklabels(xticks)\n",
        "\n",
        "axis.set_ylabel(\"Cash Flow ($M)\")\n",
        "axis.yaxis.set_major_formatter(plt.FuncFormatter(lambda x, loc: \"{:.0f}M\".format(int(x) / 1e6)))"
      ]
    },
    {
      "cell_type": "code",
      "execution_count": null,
      "metadata": {},
      "outputs": [],
      "source": []
    }
  ],
  "metadata": {
    "kernelspec": {
      "display_name": "Python 3",
      "language": "python",
      "name": "python3"
    },
    "language_info": {
      "codemirror_mode": {
        "name": "ipython",
        "version": 3
      },
      "file_extension": ".py",
      "mimetype": "text/x-python",
      "name": "python",
      "nbconvert_exporter": "python",
      "pygments_lexer": "ipython3",
      "version": "3.7.3"
    }
  },
  "nbformat": 4,
  "nbformat_minor": 4
}
