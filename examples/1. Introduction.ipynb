{
  "cells": [
    {
      "cell_type": "code",
      "execution_count": 1,
      "metadata": {},
      "outputs": [],
      "source": [
        "from copy import deepcopy"
      ]
    },
    {
      "cell_type": "markdown",
      "metadata": {},
      "source": [
        "### ORBIT Introduction\n",
        "\n",
        "ORBIT is organized into two different types of modules: design and installation. Design modules are intended to model the sizing and cost of offshore wind subcomponents and installation modules simulate the installation of these subcomponents in a discrete event simulation framework. The easiest way to start working with ORBIT is to look at one module. This tutorial will look at the monopile design module and the next tutorial will look at the monopile installation module."
      ]
    },
    {
      "cell_type": "code",
      "execution_count": 2,
      "metadata": {},
      "outputs": [],
      "source": [
        "# To import a design module:\n",
        "from ORBIT.phases.design import MonopileDesign"
      ]
    },
    {
      "cell_type": "code",
      "execution_count": 3,
      "metadata": {},
      "outputs": [
        {
          "data": {
            "text/plain": [
              "{'site': {'depth': 'm', 'mean_windspeed': 'm/s'},\n",
              " 'plant': {'num_turbines': 'int'},\n",
              " 'turbine': {'rotor_diameter': 'm',\n",
              "  'hub_height': 'm',\n",
              "  'rated_windspeed': 'm/s'},\n",
              " 'monopile_design': {'yield_stress': 'Pa (optional)',\n",
              "  'load_factor': 'float (optional)',\n",
              "  'material_factor': 'float (optional)',\n",
              "  'monopile_density': 'kg/m3 (optional)',\n",
              "  'monopile_modulus': 'Pa (optional)',\n",
              "  'monopile_tp_connection_thickness': 'm (optional)',\n",
              "  'transition_piece_density': 'kg/m3 (optional)',\n",
              "  'transition_piece_thickness': 'm (optional)',\n",
              "  'transition_piece_length': 'm (optional)',\n",
              "  'soil_coefficient': 'N/m3 (optional)',\n",
              "  'air_density': 'kg/m3 (optional)',\n",
              "  'weibull_scale_factor': 'float (optional)',\n",
              "  'weibull_shape_factor': 'float (optional)',\n",
              "  'turb_length_scale': 'm (optional)',\n",
              "  'monopile_steel_cost': 'USD/t (optional)',\n",
              "  'tp_steel_cost': 'USD/t (optional)'}}"
            ]
          },
          "execution_count": 3,
          "metadata": {},
          "output_type": "execute_result"
        }
      ],
      "source": [
        "# Each module has a property `.expected_config` that gives hints as to how to configure the module properly.\n",
        "# This property returns a nested dictionary with all of the inputs (including optional ones) that can be used\n",
        "# to configure this module.\n",
        "\n",
        "# For example:\n",
        "MonopileDesign.expected_config"
      ]
    },
    {
      "cell_type": "code",
      "execution_count": 4,
      "metadata": {},
      "outputs": [],
      "source": [
        "# For now, lets ignore the optional inputs in the 'monopile_design' subdict and just look at the required inputs:\n",
        "config_unfilled = {\n",
        "    'site': {                    # Inputs are grouped into subdicts, eg. site, plant, etc.\n",
        "        'depth': 'm',            # The value represents the unit where applicable\n",
        "        'mean_windspeed': 'm/s'\n",
        "    },\n",
        "    \n",
        "    'plant': {\n",
        "        'num_turbines': 'int'\n",
        "    },\n",
        "    \n",
        "    'turbine': {\n",
        "        'rotor_diameter': 'm',\n",
        "        'hub_height': 'm',\n",
        "        'rated_windspeed': 'm/s'\n",
        "    }\n",
        "}"
      ]
    },
    {
      "cell_type": "code",
      "execution_count": 5,
      "metadata": {},
      "outputs": [
        {
          "name": "stdout",
          "output_type": "stream",
          "text": [
            "ORBIT library intialized at '/Users/jnunemak/Fun/repos/ORBIT/library'\n",
            "Total Substructure Cost: 276.77 M\n"
          ]
        }
      ],
      "source": [
        "# Filling out the config for a simple fixed bottom project:\n",
        "config = {\n",
        "    'site': {\n",
        "        'depth': 25,\n",
        "        'mean_windspeed': 9.5\n",
        "    },\n",
        "    \n",
        "    'plant': {\n",
        "        'num_turbines': 50\n",
        "    },\n",
        "    \n",
        "    'turbine': {\n",
        "        'rotor_diameter': 220,\n",
        "        'hub_height': 120,\n",
        "        'rated_windspeed': 13\n",
        "    }\n",
        "}\n",
        "\n",
        "# To run the module, create an instance by passing the config into the module and then use module.run()\n",
        "\n",
        "module = MonopileDesign(config)\n",
        "module.run()\n",
        "print(f\"Total Substructure Cost: {module.total_cost/1e6:.2f} M\")"
      ]
    },
    {
      "cell_type": "code",
      "execution_count": 6,
      "metadata": {},
      "outputs": [
        {
          "ename": "MissingInputs",
          "evalue": "Input(s) '['site.depth', 'site.mean_windspeed']' missing in config.",
          "output_type": "error",
          "traceback": [
            "\u001b[0;31m---------------------------------------------------------------------------\u001b[0m",
            "\u001b[0;31mMissingInputs\u001b[0m                             Traceback (most recent call last)",
            "\u001b[0;32m<ipython-input-6-20015ab55893>\u001b[0m in \u001b[0;36m<module>\u001b[0;34m\u001b[0m\n\u001b[1;32m      9\u001b[0m \u001b[0m_\u001b[0m \u001b[0;34m=\u001b[0m \u001b[0mtmp\u001b[0m\u001b[0;34m.\u001b[0m\u001b[0mpop\u001b[0m\u001b[0;34m(\u001b[0m\u001b[0;34m\"site\"\u001b[0m\u001b[0;34m)\u001b[0m\u001b[0;34m\u001b[0m\u001b[0;34m\u001b[0m\u001b[0m\n\u001b[1;32m     10\u001b[0m \u001b[0;34m\u001b[0m\u001b[0m\n\u001b[0;32m---> 11\u001b[0;31m \u001b[0mmodule\u001b[0m \u001b[0;34m=\u001b[0m \u001b[0mMonopileDesign\u001b[0m\u001b[0;34m(\u001b[0m\u001b[0mtmp\u001b[0m\u001b[0;34m)\u001b[0m\u001b[0;34m\u001b[0m\u001b[0;34m\u001b[0m\u001b[0m\n\u001b[0m",
            "\u001b[0;32m~/Fun/repos/ORBIT/ORBIT/phases/design/monopile_design.py\u001b[0m in \u001b[0;36m__init__\u001b[0;34m(self, config, **kwargs)\u001b[0m\n\u001b[1;32m     75\u001b[0m \u001b[0;34m\u001b[0m\u001b[0m\n\u001b[1;32m     76\u001b[0m         \u001b[0mconfig\u001b[0m \u001b[0;34m=\u001b[0m \u001b[0mself\u001b[0m\u001b[0;34m.\u001b[0m\u001b[0minitialize_library\u001b[0m\u001b[0;34m(\u001b[0m\u001b[0mconfig\u001b[0m\u001b[0;34m,\u001b[0m \u001b[0;34m**\u001b[0m\u001b[0mkwargs\u001b[0m\u001b[0;34m)\u001b[0m\u001b[0;34m\u001b[0m\u001b[0;34m\u001b[0m\u001b[0m\n\u001b[0;32m---> 77\u001b[0;31m         \u001b[0mself\u001b[0m\u001b[0;34m.\u001b[0m\u001b[0mconfig\u001b[0m \u001b[0;34m=\u001b[0m \u001b[0mself\u001b[0m\u001b[0;34m.\u001b[0m\u001b[0mvalidate_config\u001b[0m\u001b[0;34m(\u001b[0m\u001b[0mconfig\u001b[0m\u001b[0;34m)\u001b[0m\u001b[0;34m\u001b[0m\u001b[0;34m\u001b[0m\u001b[0m\n\u001b[0m\u001b[1;32m     78\u001b[0m         \u001b[0mself\u001b[0m\u001b[0;34m.\u001b[0m\u001b[0m_outputs\u001b[0m \u001b[0;34m=\u001b[0m \u001b[0;34m{\u001b[0m\u001b[0;34m}\u001b[0m\u001b[0;34m\u001b[0m\u001b[0;34m\u001b[0m\u001b[0m\n\u001b[1;32m     79\u001b[0m \u001b[0;34m\u001b[0m\u001b[0m\n",
            "\u001b[0;32m~/Fun/repos/ORBIT/ORBIT/phases/base.py\u001b[0m in \u001b[0;36mvalidate_config\u001b[0;34m(self, config)\u001b[0m\n\u001b[1;32m    115\u001b[0m \u001b[0;34m\u001b[0m\u001b[0m\n\u001b[1;32m    116\u001b[0m         \u001b[0;32mif\u001b[0m \u001b[0mmissing\u001b[0m\u001b[0;34m:\u001b[0m\u001b[0;34m\u001b[0m\u001b[0;34m\u001b[0m\u001b[0m\n\u001b[0;32m--> 117\u001b[0;31m             \u001b[0;32mraise\u001b[0m \u001b[0mMissingInputs\u001b[0m\u001b[0;34m(\u001b[0m\u001b[0mmissing\u001b[0m\u001b[0;34m)\u001b[0m\u001b[0;34m\u001b[0m\u001b[0;34m\u001b[0m\u001b[0m\n\u001b[0m\u001b[1;32m    118\u001b[0m \u001b[0;34m\u001b[0m\u001b[0m\n\u001b[1;32m    119\u001b[0m         \u001b[0;32melse\u001b[0m\u001b[0;34m:\u001b[0m\u001b[0;34m\u001b[0m\u001b[0;34m\u001b[0m\u001b[0m\n",
            "\u001b[0;31mMissingInputs\u001b[0m: Input(s) '['site.depth', 'site.mean_windspeed']' missing in config."
          ]
        }
      ],
      "source": [
        "# If a required input is missing, an error message will be raised with the input and it's location within the configuration.\n",
        "# This error message used 'dot-notation' to show the structure of the dictionary. Each \".\" represents a lower level in the dictionary.\n",
        "# \"site.depth\" indicates that it is the 'depth' input in the 'site' subdict.\n",
        "\n",
        "# In the example below, the 'site' inputs have been removed.\n",
        "# The following inputs will be missing: '['site.depth', 'site.mean_windspeed']'\n",
        "\n",
        "tmp = deepcopy(config)\n",
        "_ = tmp.pop(\"site\")\n",
        "\n",
        "module = MonopileDesign(tmp)"
      ]
    },
    {
      "cell_type": "markdown",
      "metadata": {},
      "source": [
        "#### Optional Inputs"
      ]
    },
    {
      "cell_type": "code",
      "execution_count": 7,
      "metadata": {},
      "outputs": [
        {
          "name": "stdout",
          "output_type": "stream",
          "text": [
            "Total Substructure Cost: 361.02 M\n"
          ]
        }
      ],
      "source": [
        "# Now lets add more optional inputs:\n",
        "config = {\n",
        "    'site': {\n",
        "        'depth': 25,\n",
        "        'mean_windspeed': 9.5\n",
        "    },\n",
        "    \n",
        "    'plant': {\n",
        "        'num_turbines': 50\n",
        "    },\n",
        "    \n",
        "    'turbine': {\n",
        "        'rotor_diameter': 220,\n",
        "        'hub_height': 120,\n",
        "        'rated_windspeed': 13\n",
        "    },\n",
        "    \n",
        "    # --- New Inputs ---\n",
        "    'monopile_design': {\n",
        "        'monopile_steel_cost': 3500,  # USD/t\n",
        "         'tp_steel_cost': 4500        # USD/t\n",
        "    }\n",
        "}\n",
        "\n",
        "module = MonopileDesign(config)\n",
        "module.run()\n",
        "print(f\"Total Substructure Cost: {module.total_cost/1e6:.2f} M\")"
      ]
    },
    {
      "cell_type": "code",
      "execution_count": 14,
      "metadata": {},
      "outputs": [
        {
          "data": {
            "text/plain": [
              "{'monopile': {'diameter': 10.217490535969192,\n",
              "  'thickness': 0.10852490535969192,\n",
              "  'moment': 44.02602353978204,\n",
              "  'embedment_length': 37.11640362329476,\n",
              "  'length': 72.11640362329476,\n",
              "  'mass': 1082.5344126589946,\n",
              "  'deck_space': 104.39711285262001,\n",
              "  'unit_cost': 3788870.444306481},\n",
              " 'transition_piece': {'thickness': 0.10852490535969192,\n",
              "  'diameter': 10.434540346688577,\n",
              "  'mass': 762.5683087222009,\n",
              "  'length': 25,\n",
              "  'deck_space': 108.87963224667176,\n",
              "  'unit_cost': 3431557.389249904}}"
            ]
          },
          "execution_count": 14,
          "metadata": {},
          "output_type": "execute_result"
        }
      ],
      "source": [
        "# To look at more detailed results:\n",
        "module.design_result"
      ]
    }
  ],
  "metadata": {
    "kernelspec": {
      "display_name": "Python 3",
      "language": "python",
      "name": "python3"
    },
    "language_info": {
      "codemirror_mode": {
        "name": "ipython",
        "version": 3
      },
      "file_extension": ".py",
      "mimetype": "text/x-python",
      "name": "python",
      "nbconvert_exporter": "python",
      "pygments_lexer": "ipython3",
      "version": "3.7.3"
    }
  },
  "nbformat": 4,
  "nbformat_minor": 4
}
