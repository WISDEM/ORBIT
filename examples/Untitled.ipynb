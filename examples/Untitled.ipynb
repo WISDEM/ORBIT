{
 "cells": [
  {
   "cell_type": "code",
   "execution_count": 31,
   "metadata": {},
   "outputs": [],
   "source": [
    "from ORBIT import ParametricManager\n",
    "\n"
   ]
  },
  {
   "cell_type": "code",
   "execution_count": 32,
   "metadata": {},
   "outputs": [],
   "source": [
    "config = {\n",
    "    'wtiv': 'example_wtiv',\n",
    "    'site': {\n",
    "        'distance': 50,\n",
    "        'mean_windspeed': 9\n",
    "    },\n",
    "    \n",
    "    'plant': {\n",
    "        'num_turbines': 50\n",
    "    },\n",
    "    \n",
    "    'turbine': {\n",
    "        'rotor_diameter': 205,\n",
    "        'hub_height': 125,\n",
    "        'rated_windspeed': 11\n",
    "    },\n",
    "    \n",
    "    'design_phases': ['MonopileDesign'],\n",
    "    'install_phases': ['MonopileInstallation'],\n",
    "    \n",
    "}\n",
    "\n",
    "params = {\n",
    "    \"site.depth\": [10, 30, 50]\n",
    "}\n",
    "\n",
    "results = {\n",
    "   \"Installation\": lambda project: project.installation_capex,\n",
    "   \"System\": lambda project: project.system_capex\n",
    "}\n",
    "\n",
    "scenarios = ParametricManager(config, params, results)\n",
    "scenarios.run()"
   ]
  },
  {
   "cell_type": "code",
   "execution_count": 33,
   "metadata": {},
   "outputs": [
    {
     "data": {
      "text/html": [
       "<div>\n",
       "<style scoped>\n",
       "    .dataframe tbody tr th:only-of-type {\n",
       "        vertical-align: middle;\n",
       "    }\n",
       "\n",
       "    .dataframe tbody tr th {\n",
       "        vertical-align: top;\n",
       "    }\n",
       "\n",
       "    .dataframe thead th {\n",
       "        text-align: right;\n",
       "    }\n",
       "</style>\n",
       "<table border=\"1\" class=\"dataframe\">\n",
       "  <thead>\n",
       "    <tr style=\"text-align: right;\">\n",
       "      <th></th>\n",
       "      <th>site.depth</th>\n",
       "      <th>Installation</th>\n",
       "      <th>System</th>\n",
       "    </tr>\n",
       "  </thead>\n",
       "  <tbody>\n",
       "    <tr>\n",
       "      <td>0</td>\n",
       "      <td>10</td>\n",
       "      <td>2.143993e+07</td>\n",
       "      <td>2.001753e+08</td>\n",
       "    </tr>\n",
       "    <tr>\n",
       "      <td>1</td>\n",
       "      <td>30</td>\n",
       "      <td>2.199376e+07</td>\n",
       "      <td>2.635667e+08</td>\n",
       "    </tr>\n",
       "    <tr>\n",
       "      <td>2</td>\n",
       "      <td>50</td>\n",
       "      <td>2.264938e+07</td>\n",
       "      <td>3.332618e+08</td>\n",
       "    </tr>\n",
       "  </tbody>\n",
       "</table>\n",
       "</div>"
      ],
      "text/plain": [
       "   site.depth  Installation        System\n",
       "0          10  2.143993e+07  2.001753e+08\n",
       "1          30  2.199376e+07  2.635667e+08\n",
       "2          50  2.264938e+07  3.332618e+08"
      ]
     },
     "execution_count": 33,
     "metadata": {},
     "output_type": "execute_result"
    }
   ],
   "source": [
    "scenarios.results"
   ]
  },
  {
   "cell_type": "code",
   "execution_count": null,
   "metadata": {},
   "outputs": [],
   "source": []
  }
 ],
 "metadata": {
  "kernelspec": {
   "display_name": "Python 3",
   "language": "python",
   "name": "python3"
  },
  "language_info": {
   "codemirror_mode": {
    "name": "ipython",
    "version": 3
   },
   "file_extension": ".py",
   "mimetype": "text/x-python",
   "name": "python",
   "nbconvert_exporter": "python",
   "pygments_lexer": "ipython3",
   "version": "3.7.3"
  }
 },
 "nbformat": 4,
 "nbformat_minor": 2
}
