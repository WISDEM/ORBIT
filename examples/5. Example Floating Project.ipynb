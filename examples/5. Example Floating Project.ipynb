{
 "cells": [
  {
   "cell_type": "markdown",
   "metadata": {},
   "source": [
    "#### Jake Nunemaker\n",
    "\n",
    "National Renewable Energy Lab\n",
    "\n",
    "Last updated: 12/23/2020"
   ]
  },
  {
   "cell_type": "code",
   "execution_count": 2,
   "metadata": {},
   "outputs": [],
   "source": [
    "import os\n",
    "import pandas as pd\n",
    "from ORBIT import ProjectManager, load_config\n",
    "# from ORBIT.phases import FloatingEnergyStorage\n",
    "\n",
    "weather = pd.read_csv(\"data/example_weather.csv\", parse_dates=[\"datetime\"])\\\n",
    "            .set_index(\"datetime\")"
   ]
  },
  {
   "cell_type": "markdown",
   "metadata": {},
   "source": [
    "### Load the project configuration"
   ]
  },
  {
   "cell_type": "code",
   "execution_count": 25,
   "metadata": {},
   "outputs": [
    {
     "name": "stdout",
     "output_type": "stream",
     "text": [
      "Num turbines: 50\n",
      "Turbine: 12MW_generic\n",
      "\n",
      "Site: {'depth': 900, 'distance': 100, 'distance_to_landfall': 100}\n"
     ]
    }
   ],
   "source": [
    "fixed_config = load_config(\"configs/example_floating_project.yaml\") \n",
    "\n",
    "print(f\"Num turbines: {fixed_config['plant']['num_turbines']}\")\n",
    "print(f\"Turbine: {fixed_config['turbine']}\")\n",
    "print(f\"\\nSite: {fixed_config['site']}\")"
   ]
  },
  {
   "cell_type": "markdown",
   "metadata": {},
   "source": [
    "### Phases"
   ]
  },
  {
   "cell_type": "code",
   "execution_count": 26,
   "metadata": {},
   "outputs": [
    {
     "name": "stdout",
     "output_type": "stream",
     "text": [
      "Design phases: ['ArraySystemDesign', 'ExportSystemDesign', 'MooringSystemDesign', 'OffshoreSubstationDesign', 'SemiSubmersibleDesign']\n",
      "\n",
      "Install phases: ['ArrayCableInstallation', 'ExportCableInstallation', 'MooredSubInstallation', 'MooringSystemInstallation', 'OffshoreSubstationInstallation', 'TurbineInstallation']\n"
     ]
    }
   ],
   "source": [
    "print(f\"Design phases: {fixed_config['design_phases']}\")\n",
    "print(f\"\\nInstall phases: {list(fixed_config['install_phases'].keys())}\")"
   ]
  },
  {
   "cell_type": "markdown",
   "metadata": {},
   "source": [
    "### Run"
   ]
  },
  {
   "cell_type": "code",
   "execution_count": 27,
   "metadata": {},
   "outputs": [],
   "source": [
    "project = ProjectManager(fixed_config, weather=weather)\n",
    "# project.register_design_phase(ORBIT.phases.FloatingEnergyStorage)\n",
    "project.run()"
   ]
  },
  {
   "cell_type": "markdown",
   "metadata": {},
   "source": [
    "### Top Level Outputs"
   ]
  },
  {
   "cell_type": "code",
   "execution_count": 28,
   "metadata": {},
   "outputs": [
    {
     "name": "stdout",
     "output_type": "stream",
     "text": [
      "Installation CapEx:  420 M\n",
      "System CapEx:       1222 M\n",
      "Turbine CapEx:       780 M\n",
      "Soft CapEx:          387 M\n",
      "Total CapEx:        2961 M\n",
      "\n",
      "Installation Time: 27750 h\n"
     ]
    }
   ],
   "source": [
    "print(f\"Installation CapEx:  {project.installation_capex/1e6:.0f} M\")\n",
    "print(f\"System CapEx:       {project.system_capex/1e6:.0f} M\")\n",
    "print(f\"Turbine CapEx:       {project.turbine_capex/1e6:.0f} M\")\n",
    "print(f\"Soft CapEx:          {project.soft_capex/1e6:.0f} M\")\n",
    "print(f\"Total CapEx:        {project.total_capex/1e6:.0f} M\")\n",
    "\n",
    "print(f\"\\nInstallation Time: {project.installation_time:.0f} h\")"
   ]
  },
  {
   "cell_type": "markdown",
   "metadata": {},
   "source": [
    "### CapEx Breakdown"
   ]
  },
  {
   "cell_type": "code",
   "execution_count": 29,
   "metadata": {},
   "outputs": [
    {
     "data": {
      "text/plain": [
       "{'Array System': 56983076.60642063,\n",
       " 'Export System': 103712476.9152,\n",
       " 'Substructure': 630709636.6,\n",
       " 'Mooring System': 331379224.80820334,\n",
       " 'Offshore Substation': 99479100.0,\n",
       " 'Array System Installation': 22844527.896071255,\n",
       " 'Export System Installation': 135112258.0470523,\n",
       " 'Substructure Installation': 79182122.33637744,\n",
       " 'Mooring System Installation': 50094520.5479452,\n",
       " 'Offshore Substation Installation': 5499328.911719939,\n",
       " 'Turbine Installation': 127738070.77625567,\n",
       " 'Turbine': 780000000,\n",
       " 'Soft': 387000000,\n",
       " 'Project': 151250000.0}"
      ]
     },
     "execution_count": 29,
     "metadata": {},
     "output_type": "execute_result"
    }
   ],
   "source": [
    "project.capex_breakdown"
   ]
  },
  {
   "cell_type": "markdown",
   "metadata": {},
   "source": [
    "### Installation Actions"
   ]
  },
  {
   "cell_type": "code",
   "execution_count": 30,
   "metadata": {},
   "outputs": [
    {
     "data": {
      "text/html": [
       "<div>\n",
       "<style scoped>\n",
       "    .dataframe tbody tr th:only-of-type {\n",
       "        vertical-align: middle;\n",
       "    }\n",
       "\n",
       "    .dataframe tbody tr th {\n",
       "        vertical-align: top;\n",
       "    }\n",
       "\n",
       "    .dataframe thead th {\n",
       "        text-align: right;\n",
       "    }\n",
       "</style>\n",
       "<table border=\"1\" class=\"dataframe\">\n",
       "  <thead>\n",
       "    <tr style=\"text-align: right;\">\n",
       "      <th></th>\n",
       "      <th>cost_multiplier</th>\n",
       "      <th>agent</th>\n",
       "      <th>action</th>\n",
       "      <th>duration</th>\n",
       "      <th>cost</th>\n",
       "      <th>level</th>\n",
       "      <th>time</th>\n",
       "      <th>phase</th>\n",
       "      <th>location</th>\n",
       "      <th>site_depth</th>\n",
       "      <th>hub_height</th>\n",
       "      <th>phase_name</th>\n",
       "      <th>max_waveheight</th>\n",
       "      <th>max_windspeed</th>\n",
       "      <th>transit_speed</th>\n",
       "      <th>num_vessels</th>\n",
       "    </tr>\n",
       "  </thead>\n",
       "  <tbody>\n",
       "    <tr>\n",
       "      <th>0</th>\n",
       "      <td>0.5</td>\n",
       "      <td>Array Cable Installation Vessel</td>\n",
       "      <td>Mobilize</td>\n",
       "      <td>72.000000</td>\n",
       "      <td>1.800000e+05</td>\n",
       "      <td>ACTION</td>\n",
       "      <td>0.000000</td>\n",
       "      <td>ArrayCableInstallation</td>\n",
       "      <td>NaN</td>\n",
       "      <td>NaN</td>\n",
       "      <td>NaN</td>\n",
       "      <td>NaN</td>\n",
       "      <td>NaN</td>\n",
       "      <td>NaN</td>\n",
       "      <td>NaN</td>\n",
       "      <td>NaN</td>\n",
       "    </tr>\n",
       "    <tr>\n",
       "      <th>1</th>\n",
       "      <td>0.5</td>\n",
       "      <td>Export Cable Installation Vessel</td>\n",
       "      <td>Mobilize</td>\n",
       "      <td>72.000000</td>\n",
       "      <td>1.800000e+05</td>\n",
       "      <td>ACTION</td>\n",
       "      <td>0.000000</td>\n",
       "      <td>ExportCableInstallation</td>\n",
       "      <td>NaN</td>\n",
       "      <td>NaN</td>\n",
       "      <td>NaN</td>\n",
       "      <td>NaN</td>\n",
       "      <td>NaN</td>\n",
       "      <td>NaN</td>\n",
       "      <td>NaN</td>\n",
       "      <td>NaN</td>\n",
       "    </tr>\n",
       "    <tr>\n",
       "      <th>2</th>\n",
       "      <td>NaN</td>\n",
       "      <td>Onshore Construction</td>\n",
       "      <td>Onshore Construction</td>\n",
       "      <td>0.000000</td>\n",
       "      <td>1.075454e+08</td>\n",
       "      <td>ACTION</td>\n",
       "      <td>0.000000</td>\n",
       "      <td>ExportCableInstallation</td>\n",
       "      <td>Landfall</td>\n",
       "      <td>NaN</td>\n",
       "      <td>NaN</td>\n",
       "      <td>NaN</td>\n",
       "      <td>NaN</td>\n",
       "      <td>NaN</td>\n",
       "      <td>NaN</td>\n",
       "      <td>NaN</td>\n",
       "    </tr>\n",
       "    <tr>\n",
       "      <th>3</th>\n",
       "      <td>1.0</td>\n",
       "      <td>Mooring System Installation Vessel</td>\n",
       "      <td>Mobilize</td>\n",
       "      <td>168.000000</td>\n",
       "      <td>7.000000e+05</td>\n",
       "      <td>ACTION</td>\n",
       "      <td>0.000000</td>\n",
       "      <td>MooringSystemInstallation</td>\n",
       "      <td>NaN</td>\n",
       "      <td>NaN</td>\n",
       "      <td>NaN</td>\n",
       "      <td>NaN</td>\n",
       "      <td>NaN</td>\n",
       "      <td>NaN</td>\n",
       "      <td>NaN</td>\n",
       "      <td>NaN</td>\n",
       "    </tr>\n",
       "    <tr>\n",
       "      <th>4</th>\n",
       "      <td>0.5</td>\n",
       "      <td>Heavy Lift Vessel</td>\n",
       "      <td>Mobilize</td>\n",
       "      <td>72.000000</td>\n",
       "      <td>7.500000e+05</td>\n",
       "      <td>ACTION</td>\n",
       "      <td>0.000000</td>\n",
       "      <td>OffshoreSubstationInstallation</td>\n",
       "      <td>NaN</td>\n",
       "      <td>NaN</td>\n",
       "      <td>NaN</td>\n",
       "      <td>NaN</td>\n",
       "      <td>NaN</td>\n",
       "      <td>NaN</td>\n",
       "      <td>NaN</td>\n",
       "      <td>NaN</td>\n",
       "    </tr>\n",
       "    <tr>\n",
       "      <th>...</th>\n",
       "      <td>...</td>\n",
       "      <td>...</td>\n",
       "      <td>...</td>\n",
       "      <td>...</td>\n",
       "      <td>...</td>\n",
       "      <td>...</td>\n",
       "      <td>...</td>\n",
       "      <td>...</td>\n",
       "      <td>...</td>\n",
       "      <td>...</td>\n",
       "      <td>...</td>\n",
       "      <td>...</td>\n",
       "      <td>...</td>\n",
       "      <td>...</td>\n",
       "      <td>...</td>\n",
       "      <td>...</td>\n",
       "    </tr>\n",
       "    <tr>\n",
       "      <th>4405</th>\n",
       "      <td>NaN</td>\n",
       "      <td>Multi-Purpose Support Vessel</td>\n",
       "      <td>Connect Mooring Lines</td>\n",
       "      <td>22.000000</td>\n",
       "      <td>9.166667e+04</td>\n",
       "      <td>ACTION</td>\n",
       "      <td>8554.500000</td>\n",
       "      <td>MooredSubInstallation</td>\n",
       "      <td>NaN</td>\n",
       "      <td>NaN</td>\n",
       "      <td>NaN</td>\n",
       "      <td>NaN</td>\n",
       "      <td>NaN</td>\n",
       "      <td>NaN</td>\n",
       "      <td>NaN</td>\n",
       "      <td>NaN</td>\n",
       "    </tr>\n",
       "    <tr>\n",
       "      <th>4406</th>\n",
       "      <td>NaN</td>\n",
       "      <td>Multi-Purpose Support Vessel</td>\n",
       "      <td>Check Mooring Lines</td>\n",
       "      <td>12.000000</td>\n",
       "      <td>5.000000e+04</td>\n",
       "      <td>ACTION</td>\n",
       "      <td>8566.500000</td>\n",
       "      <td>MooredSubInstallation</td>\n",
       "      <td>NaN</td>\n",
       "      <td>NaN</td>\n",
       "      <td>NaN</td>\n",
       "      <td>NaN</td>\n",
       "      <td>NaN</td>\n",
       "      <td>NaN</td>\n",
       "      <td>NaN</td>\n",
       "      <td>NaN</td>\n",
       "    </tr>\n",
       "    <tr>\n",
       "      <th>4407</th>\n",
       "      <td>NaN</td>\n",
       "      <td>Towing Group 1</td>\n",
       "      <td>Positioning Support</td>\n",
       "      <td>42.000000</td>\n",
       "      <td>1.050000e+05</td>\n",
       "      <td>ACTION</td>\n",
       "      <td>8566.500000</td>\n",
       "      <td>MooredSubInstallation</td>\n",
       "      <td>site</td>\n",
       "      <td>NaN</td>\n",
       "      <td>NaN</td>\n",
       "      <td>NaN</td>\n",
       "      <td>NaN</td>\n",
       "      <td>NaN</td>\n",
       "      <td>NaN</td>\n",
       "      <td>2.0</td>\n",
       "    </tr>\n",
       "    <tr>\n",
       "      <th>4408</th>\n",
       "      <td>NaN</td>\n",
       "      <td>Multi-Purpose Support Vessel</td>\n",
       "      <td>Transit</td>\n",
       "      <td>10.000000</td>\n",
       "      <td>4.166667e+04</td>\n",
       "      <td>ACTION</td>\n",
       "      <td>8576.500000</td>\n",
       "      <td>MooredSubInstallation</td>\n",
       "      <td>NaN</td>\n",
       "      <td>NaN</td>\n",
       "      <td>NaN</td>\n",
       "      <td>NaN</td>\n",
       "      <td>NaN</td>\n",
       "      <td>NaN</td>\n",
       "      <td>NaN</td>\n",
       "      <td>NaN</td>\n",
       "    </tr>\n",
       "    <tr>\n",
       "      <th>4409</th>\n",
       "      <td>NaN</td>\n",
       "      <td>Towing Group 1</td>\n",
       "      <td>Transit</td>\n",
       "      <td>16.666667</td>\n",
       "      <td>6.250000e+04</td>\n",
       "      <td>ACTION</td>\n",
       "      <td>8583.166667</td>\n",
       "      <td>MooredSubInstallation</td>\n",
       "      <td>NaN</td>\n",
       "      <td>NaN</td>\n",
       "      <td>NaN</td>\n",
       "      <td>NaN</td>\n",
       "      <td>NaN</td>\n",
       "      <td>NaN</td>\n",
       "      <td>NaN</td>\n",
       "      <td>3.0</td>\n",
       "    </tr>\n",
       "  </tbody>\n",
       "</table>\n",
       "<p>4410 rows × 16 columns</p>\n",
       "</div>"
      ],
      "text/plain": [
       "      cost_multiplier                               agent  \\\n",
       "0                 0.5     Array Cable Installation Vessel   \n",
       "1                 0.5    Export Cable Installation Vessel   \n",
       "2                 NaN                Onshore Construction   \n",
       "3                 1.0  Mooring System Installation Vessel   \n",
       "4                 0.5                   Heavy Lift Vessel   \n",
       "...               ...                                 ...   \n",
       "4405              NaN        Multi-Purpose Support Vessel   \n",
       "4406              NaN        Multi-Purpose Support Vessel   \n",
       "4407              NaN                      Towing Group 1   \n",
       "4408              NaN        Multi-Purpose Support Vessel   \n",
       "4409              NaN                      Towing Group 1   \n",
       "\n",
       "                     action    duration          cost   level         time  \\\n",
       "0                  Mobilize   72.000000  1.800000e+05  ACTION     0.000000   \n",
       "1                  Mobilize   72.000000  1.800000e+05  ACTION     0.000000   \n",
       "2      Onshore Construction    0.000000  1.075454e+08  ACTION     0.000000   \n",
       "3                  Mobilize  168.000000  7.000000e+05  ACTION     0.000000   \n",
       "4                  Mobilize   72.000000  7.500000e+05  ACTION     0.000000   \n",
       "...                     ...         ...           ...     ...          ...   \n",
       "4405  Connect Mooring Lines   22.000000  9.166667e+04  ACTION  8554.500000   \n",
       "4406    Check Mooring Lines   12.000000  5.000000e+04  ACTION  8566.500000   \n",
       "4407    Positioning Support   42.000000  1.050000e+05  ACTION  8566.500000   \n",
       "4408                Transit   10.000000  4.166667e+04  ACTION  8576.500000   \n",
       "4409                Transit   16.666667  6.250000e+04  ACTION  8583.166667   \n",
       "\n",
       "                               phase  location  site_depth  hub_height  \\\n",
       "0             ArrayCableInstallation       NaN         NaN         NaN   \n",
       "1            ExportCableInstallation       NaN         NaN         NaN   \n",
       "2            ExportCableInstallation  Landfall         NaN         NaN   \n",
       "3          MooringSystemInstallation       NaN         NaN         NaN   \n",
       "4     OffshoreSubstationInstallation       NaN         NaN         NaN   \n",
       "...                              ...       ...         ...         ...   \n",
       "4405           MooredSubInstallation       NaN         NaN         NaN   \n",
       "4406           MooredSubInstallation       NaN         NaN         NaN   \n",
       "4407           MooredSubInstallation      site         NaN         NaN   \n",
       "4408           MooredSubInstallation       NaN         NaN         NaN   \n",
       "4409           MooredSubInstallation       NaN         NaN         NaN   \n",
       "\n",
       "     phase_name  max_waveheight  max_windspeed  transit_speed  num_vessels  \n",
       "0           NaN             NaN            NaN            NaN          NaN  \n",
       "1           NaN             NaN            NaN            NaN          NaN  \n",
       "2           NaN             NaN            NaN            NaN          NaN  \n",
       "3           NaN             NaN            NaN            NaN          NaN  \n",
       "4           NaN             NaN            NaN            NaN          NaN  \n",
       "...         ...             ...            ...            ...          ...  \n",
       "4405        NaN             NaN            NaN            NaN          NaN  \n",
       "4406        NaN             NaN            NaN            NaN          NaN  \n",
       "4407        NaN             NaN            NaN            NaN          2.0  \n",
       "4408        NaN             NaN            NaN            NaN          NaN  \n",
       "4409        NaN             NaN            NaN            NaN          3.0  \n",
       "\n",
       "[4410 rows x 16 columns]"
      ]
     },
     "execution_count": 30,
     "metadata": {},
     "output_type": "execute_result"
    }
   ],
   "source": [
    "pd.DataFrame(project.actions)"
   ]
  },
  {
   "cell_type": "code",
   "execution_count": null,
   "metadata": {},
   "outputs": [],
   "source": []
  },
  {
   "cell_type": "code",
   "execution_count": null,
   "metadata": {},
   "outputs": [],
   "source": []
  },
  {
   "cell_type": "code",
   "execution_count": null,
   "metadata": {},
   "outputs": [],
   "source": []
  }
 ],
 "metadata": {
  "kernelspec": {
   "display_name": "Python 3 (ipykernel)",
   "language": "python",
   "name": "python3"
  },
  "language_info": {
   "codemirror_mode": {
    "name": "ipython",
    "version": 3
   },
   "file_extension": ".py",
   "mimetype": "text/x-python",
   "name": "python",
   "nbconvert_exporter": "python",
   "pygments_lexer": "ipython3",
   "version": "3.9.12"
  }
 },
 "nbformat": 4,
 "nbformat_minor": 4
}
