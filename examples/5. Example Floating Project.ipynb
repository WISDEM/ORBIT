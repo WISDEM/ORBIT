{
  "cells": [
    {
      "cell_type": "markdown",
      "metadata": {},
      "source": [
        "### Example Floating Project\n",
        "\n",
        "This tutorial uses prepared ORBIT configs that are stored as .yaml files in the `~/configs/` folder. These example projects each exhibit different functionalities within ORBIT. Using these examples and combinations of them, most project configurations can be modeled. \n",
        "\n",
        "Last updated: September 2024\n",
        "\n",
        "1. Run the example floating project and print outputs\n",
        "2. Replace the anchor_type and mooring_type and print outputs \n"
      ]
    },
    {
      "cell_type": "code",
      "execution_count": 39,
      "metadata": {},
      "outputs": [
        {
          "name": "stderr",
          "output_type": "stream",
          "text": [
            "UserWarning: /var/folders/90/1lkt657x3n1cw5x65j3lfgd5406fb8/T/ipykernel_98169/3749054979.py:9\n",
            "Could not infer format, so each element will be parsed individually, falling back to `dateutil`. To ensure parsing is consistent and as-expected, please specify a format."
          ]
        }
      ],
      "source": [
        "import pandas as pd\n",
        "\n",
        "from copy import deepcopy\n",
        "from pprint import pprint\n",
        "from ORBIT import ProjectManager, load_config\n",
        "\n",
        "import warnings\n",
        "warnings.filterwarnings(\"default\")\n",
        "\n",
        "weather = pd.read_csv(\"data/example_weather.csv\", parse_dates=[\"datetime\"])\\\n",
        "            .set_index(\"datetime\")"
      ]
    },
    {
      "cell_type": "markdown",
      "metadata": {},
      "source": [
        "### 1. Run the example floating project \n",
        "\n",
        "#### Load the project configuration\n",
        "`~/configs/example_floating_project.yaml`"
      ]
    },
    {
      "cell_type": "code",
      "execution_count": 27,
      "metadata": {},
      "outputs": [
        {
          "name": "stdout",
          "output_type": "stream",
          "text": [
            "Num turbines: 50\n",
            "Turbine: 12MW_generic\n",
            "\n",
            "Site: {'depth': 900, 'distance': 100, 'distance_to_landfall': 100}\n"
          ]
        }
      ],
      "source": [
        "floating_config = load_config(\"configs/example_floating_project.yaml\")\n",
        "\n",
        "print(f\"Num turbines: {floating_config['plant']['num_turbines']}\")\n",
        "print(f\"Turbine: {floating_config['turbine']}\")\n",
        "print(f\"\\nSite: {floating_config['site']}\")"
      ]
    },
    {
      "cell_type": "markdown",
      "metadata": {},
      "source": [
        "### Phases"
      ]
    },
    {
      "cell_type": "code",
      "execution_count": 41,
      "metadata": {},
      "outputs": [
        {
          "name": "stdout",
          "output_type": "stream",
          "text": [
            "(\"Design phases: ['ArraySystemDesign', 'ElectricalDesign', \"\n",
            " \"'MooringSystemDesign', 'OffshoreFloatingSubstationDesign', \"\n",
            " \"'SemiSubmersibleDesign']\")\n",
            "('\\n'\n",
            " \"Install phases: ['ArrayCableInstallation', 'ExportCableInstallation', \"\n",
            " \"'MooredSubInstallation', 'MooringSystemInstallation', \"\n",
            " \"'FloatingSubstationInstallation', 'TurbineInstallation']\")\n"
          ]
        }
      ],
      "source": [
        "print(f\"Design phases: {floating_config['design_phases']}\")\n",
        "print(f\"\\nInstall phases: {list(floating_config['install_phases'].keys())}\")"
      ]
    },
    {
      "cell_type": "markdown",
      "metadata": {},
      "source": [
        "### Run"
      ]
    },
    {
      "cell_type": "code",
      "execution_count": 29,
      "metadata": {},
      "outputs": [
        {
          "name": "stderr",
          "output_type": "stream",
          "text": [
            "DeprecationWarning: /Users/nriccobo/GitHub/ORBIT/ORBIT/phases/install/quayside_assembly_tow/moored.py:94\n",
            "support_vessel will be deprecated and replaced with towing_vessels and ahts_vessel in the towing groups.\n",
            "DeprecationWarning: /Users/nriccobo/GitHub/ORBIT/ORBIT/phases/install/quayside_assembly_tow/moored.py:94\n",
            "['towing_vessl_groups]['station_keeping_vessels'] will be deprecated and replaced with ['towing_vessl_groups]['ahts_vessels'].\n"
          ]
        }
      ],
      "source": [
        "project = ProjectManager(floating_config, weather=weather)\n",
        "project.run()"
      ]
    },
    {
      "cell_type": "markdown",
      "metadata": {},
      "source": [
        "### Top Level Outputs"
      ]
    },
    {
      "cell_type": "code",
      "execution_count": 30,
      "metadata": {},
      "outputs": [
        {
          "name": "stdout",
          "output_type": "stream",
          "text": [
            "Installation CapEx:  521 M\n",
            "System CapEx:       1444 M\n",
            "Turbine CapEx:       780 M\n",
            "Soft CapEx:          387 M\n",
            "Total CapEx:        3283 M\n",
            "\n",
            "Installation Time: 41147 h\n"
          ]
        }
      ],
      "source": [
        "print(f\"Installation CapEx:  {project.installation_capex/1e6:.0f} M\")\n",
        "print(f\"System CapEx:       {project.system_capex/1e6:.0f} M\")\n",
        "print(f\"Turbine CapEx:       {project.turbine_capex/1e6:.0f} M\")\n",
        "print(f\"Soft CapEx:          {project.soft_capex/1e6:.0f} M\")\n",
        "print(f\"Total CapEx:        {project.total_capex/1e6:.0f} M\")\n",
        "\n",
        "print(f\"\\nInstallation Time: {project.installation_time:.0f} h\")"
      ]
    },
    {
      "cell_type": "markdown",
      "metadata": {},
      "source": [
        "### CapEx Breakdown"
      ]
    },
    {
      "cell_type": "code",
      "execution_count": 31,
      "metadata": {},
      "outputs": [
        {
          "data": {
            "text/plain": [
              "{'Array System': 94.97179434403438,\n",
              " 'Export System': 432.13532047999996,\n",
              " 'Substructure': 1051.1827276666668,\n",
              " 'Mooring System': 552.2987080136722,\n",
              " 'Offshore Substation': 276.52514805568075,\n",
              " 'Array System Installation': 105.04624474280226,\n",
              " 'Export System Installation': 246.79354615177581,\n",
              " 'Substructure Installation': 208.2509277379141,\n",
              " 'Mooring System Installation': 83.49086757990867,\n",
              " 'Offshore Substation Installation': 11.784658802638255,\n",
              " 'Turbine Installation': 212.89678462709279,\n",
              " 'Turbine': 1300.0,\n",
              " 'Soft': 645.0,\n",
              " 'Project': 252.08333333333334}"
            ]
          },
          "execution_count": 31,
          "metadata": {},
          "output_type": "execute_result"
        }
      ],
      "source": [
        "project.capex_breakdown_per_kw"
      ]
    },
    {
      "cell_type": "markdown",
      "metadata": {},
      "source": [
        "### Installation Actions"
      ]
    },
    {
      "cell_type": "code",
      "execution_count": 32,
      "metadata": {},
      "outputs": [
        {
          "data": {
            "text/html": [
              "<div>\n",
              "<style scoped>\n",
              "    .dataframe tbody tr th:only-of-type {\n",
              "        vertical-align: middle;\n",
              "    }\n",
              "\n",
              "    .dataframe tbody tr th {\n",
              "        vertical-align: top;\n",
              "    }\n",
              "\n",
              "    .dataframe thead th {\n",
              "        text-align: right;\n",
              "    }\n",
              "</style>\n",
              "<table border=\"1\" class=\"dataframe\">\n",
              "  <thead>\n",
              "    <tr style=\"text-align: right;\">\n",
              "      <th></th>\n",
              "      <th>cost_multiplier</th>\n",
              "      <th>agent</th>\n",
              "      <th>action</th>\n",
              "      <th>duration</th>\n",
              "      <th>cost</th>\n",
              "      <th>level</th>\n",
              "      <th>time</th>\n",
              "      <th>phase</th>\n",
              "      <th>location</th>\n",
              "      <th>site_depth</th>\n",
              "      <th>hub_height</th>\n",
              "      <th>phase_name</th>\n",
              "      <th>max_waveheight</th>\n",
              "      <th>max_windspeed</th>\n",
              "      <th>transit_speed</th>\n",
              "      <th>num_vessels</th>\n",
              "      <th>num_ahts_vessels</th>\n",
              "    </tr>\n",
              "  </thead>\n",
              "  <tbody>\n",
              "    <tr>\n",
              "      <th>0</th>\n",
              "      <td>0.5</td>\n",
              "      <td>Array Cable Installation Vessel</td>\n",
              "      <td>Mobilize</td>\n",
              "      <td>72.000000</td>\n",
              "      <td>3.375000e+05</td>\n",
              "      <td>ACTION</td>\n",
              "      <td>0.000000</td>\n",
              "      <td>ArrayCableInstallation</td>\n",
              "      <td>NaN</td>\n",
              "      <td>NaN</td>\n",
              "      <td>NaN</td>\n",
              "      <td>NaN</td>\n",
              "      <td>NaN</td>\n",
              "      <td>NaN</td>\n",
              "      <td>NaN</td>\n",
              "      <td>NaN</td>\n",
              "      <td>NaN</td>\n",
              "    </tr>\n",
              "    <tr>\n",
              "      <th>1</th>\n",
              "      <td>0.5</td>\n",
              "      <td>Export Cable Installation Vessel</td>\n",
              "      <td>Mobilize</td>\n",
              "      <td>72.000000</td>\n",
              "      <td>3.375000e+05</td>\n",
              "      <td>ACTION</td>\n",
              "      <td>0.000000</td>\n",
              "      <td>ExportCableInstallation</td>\n",
              "      <td>NaN</td>\n",
              "      <td>NaN</td>\n",
              "      <td>NaN</td>\n",
              "      <td>NaN</td>\n",
              "      <td>NaN</td>\n",
              "      <td>NaN</td>\n",
              "      <td>NaN</td>\n",
              "      <td>NaN</td>\n",
              "      <td>NaN</td>\n",
              "    </tr>\n",
              "    <tr>\n",
              "      <th>2</th>\n",
              "      <td>NaN</td>\n",
              "      <td>Onshore Construction</td>\n",
              "      <td>Onshore Construction</td>\n",
              "      <td>0.000000</td>\n",
              "      <td>1.665604e+06</td>\n",
              "      <td>ACTION</td>\n",
              "      <td>0.000000</td>\n",
              "      <td>ExportCableInstallation</td>\n",
              "      <td>Landfall</td>\n",
              "      <td>NaN</td>\n",
              "      <td>NaN</td>\n",
              "      <td>NaN</td>\n",
              "      <td>NaN</td>\n",
              "      <td>NaN</td>\n",
              "      <td>NaN</td>\n",
              "      <td>NaN</td>\n",
              "      <td>NaN</td>\n",
              "    </tr>\n",
              "    <tr>\n",
              "      <th>3</th>\n",
              "      <td>1.0</td>\n",
              "      <td>Mooring System Installation Vessel</td>\n",
              "      <td>Mobilize</td>\n",
              "      <td>168.000000</td>\n",
              "      <td>7.000000e+05</td>\n",
              "      <td>ACTION</td>\n",
              "      <td>0.000000</td>\n",
              "      <td>MooringSystemInstallation</td>\n",
              "      <td>NaN</td>\n",
              "      <td>NaN</td>\n",
              "      <td>NaN</td>\n",
              "      <td>NaN</td>\n",
              "      <td>NaN</td>\n",
              "      <td>NaN</td>\n",
              "      <td>NaN</td>\n",
              "      <td>NaN</td>\n",
              "      <td>NaN</td>\n",
              "    </tr>\n",
              "    <tr>\n",
              "      <th>4</th>\n",
              "      <td>NaN</td>\n",
              "      <td>Substation Assembly Line 1</td>\n",
              "      <td>Substation Substructure Assembly</td>\n",
              "      <td>0.000000</td>\n",
              "      <td>0.000000e+00</td>\n",
              "      <td>ACTION</td>\n",
              "      <td>0.000000</td>\n",
              "      <td>FloatingSubstationInstallation</td>\n",
              "      <td>NaN</td>\n",
              "      <td>NaN</td>\n",
              "      <td>NaN</td>\n",
              "      <td>NaN</td>\n",
              "      <td>NaN</td>\n",
              "      <td>NaN</td>\n",
              "      <td>NaN</td>\n",
              "      <td>NaN</td>\n",
              "      <td>NaN</td>\n",
              "    </tr>\n",
              "    <tr>\n",
              "      <th>...</th>\n",
              "      <td>...</td>\n",
              "      <td>...</td>\n",
              "      <td>...</td>\n",
              "      <td>...</td>\n",
              "      <td>...</td>\n",
              "      <td>...</td>\n",
              "      <td>...</td>\n",
              "      <td>...</td>\n",
              "      <td>...</td>\n",
              "      <td>...</td>\n",
              "      <td>...</td>\n",
              "      <td>...</td>\n",
              "      <td>...</td>\n",
              "      <td>...</td>\n",
              "      <td>...</td>\n",
              "      <td>...</td>\n",
              "      <td>...</td>\n",
              "    </tr>\n",
              "    <tr>\n",
              "      <th>4521</th>\n",
              "      <td>NaN</td>\n",
              "      <td>Export Cable Installation Vessel</td>\n",
              "      <td>Pull In Cable</td>\n",
              "      <td>5.500000</td>\n",
              "      <td>5.156250e+04</td>\n",
              "      <td>ACTION</td>\n",
              "      <td>12017.280762</td>\n",
              "      <td>ExportCableInstallation</td>\n",
              "      <td>NaN</td>\n",
              "      <td>NaN</td>\n",
              "      <td>NaN</td>\n",
              "      <td>ExportCableInstallation</td>\n",
              "      <td>NaN</td>\n",
              "      <td>NaN</td>\n",
              "      <td>NaN</td>\n",
              "      <td>NaN</td>\n",
              "      <td>NaN</td>\n",
              "    </tr>\n",
              "    <tr>\n",
              "      <th>4522</th>\n",
              "      <td>NaN</td>\n",
              "      <td>Export Cable Installation Vessel</td>\n",
              "      <td>Terminate Cable</td>\n",
              "      <td>5.500000</td>\n",
              "      <td>5.156250e+04</td>\n",
              "      <td>ACTION</td>\n",
              "      <td>12022.780762</td>\n",
              "      <td>ExportCableInstallation</td>\n",
              "      <td>NaN</td>\n",
              "      <td>NaN</td>\n",
              "      <td>NaN</td>\n",
              "      <td>ExportCableInstallation</td>\n",
              "      <td>NaN</td>\n",
              "      <td>NaN</td>\n",
              "      <td>NaN</td>\n",
              "      <td>NaN</td>\n",
              "      <td>NaN</td>\n",
              "    </tr>\n",
              "    <tr>\n",
              "      <th>4523</th>\n",
              "      <td>NaN</td>\n",
              "      <td>Export Cable Installation Vessel</td>\n",
              "      <td>Transit</td>\n",
              "      <td>8.000000</td>\n",
              "      <td>7.500000e+04</td>\n",
              "      <td>ACTION</td>\n",
              "      <td>12030.780762</td>\n",
              "      <td>ExportCableInstallation</td>\n",
              "      <td>NaN</td>\n",
              "      <td>NaN</td>\n",
              "      <td>NaN</td>\n",
              "      <td>NaN</td>\n",
              "      <td>NaN</td>\n",
              "      <td>NaN</td>\n",
              "      <td>NaN</td>\n",
              "      <td>NaN</td>\n",
              "      <td>NaN</td>\n",
              "    </tr>\n",
              "    <tr>\n",
              "      <th>4524</th>\n",
              "      <td>NaN</td>\n",
              "      <td>Export Cable Installation Vessel</td>\n",
              "      <td>Delay</td>\n",
              "      <td>26.000000</td>\n",
              "      <td>2.437500e+05</td>\n",
              "      <td>ACTION</td>\n",
              "      <td>12056.780762</td>\n",
              "      <td>ExportCableInstallation</td>\n",
              "      <td>NaN</td>\n",
              "      <td>NaN</td>\n",
              "      <td>NaN</td>\n",
              "      <td>NaN</td>\n",
              "      <td>NaN</td>\n",
              "      <td>NaN</td>\n",
              "      <td>NaN</td>\n",
              "      <td>NaN</td>\n",
              "      <td>NaN</td>\n",
              "    </tr>\n",
              "    <tr>\n",
              "      <th>4525</th>\n",
              "      <td>NaN</td>\n",
              "      <td>Export Cable Installation Vessel</td>\n",
              "      <td>Transit</td>\n",
              "      <td>0.695652</td>\n",
              "      <td>6.521739e+03</td>\n",
              "      <td>ACTION</td>\n",
              "      <td>12057.476414</td>\n",
              "      <td>ExportCableInstallation</td>\n",
              "      <td>NaN</td>\n",
              "      <td>NaN</td>\n",
              "      <td>NaN</td>\n",
              "      <td>NaN</td>\n",
              "      <td>NaN</td>\n",
              "      <td>NaN</td>\n",
              "      <td>NaN</td>\n",
              "      <td>NaN</td>\n",
              "      <td>NaN</td>\n",
              "    </tr>\n",
              "  </tbody>\n",
              "</table>\n",
              "<p>4526 rows \u00d7 17 columns</p>\n",
              "</div>"
            ],
            "text/plain": [
              "      cost_multiplier                               agent  \\\n",
              "0                 0.5     Array Cable Installation Vessel   \n",
              "1                 0.5    Export Cable Installation Vessel   \n",
              "2                 NaN                Onshore Construction   \n",
              "3                 1.0  Mooring System Installation Vessel   \n",
              "4                 NaN          Substation Assembly Line 1   \n",
              "...               ...                                 ...   \n",
              "4521              NaN    Export Cable Installation Vessel   \n",
              "4522              NaN    Export Cable Installation Vessel   \n",
              "4523              NaN    Export Cable Installation Vessel   \n",
              "4524              NaN    Export Cable Installation Vessel   \n",
              "4525              NaN    Export Cable Installation Vessel   \n",
              "\n",
              "                                action    duration          cost   level  \\\n",
              "0                             Mobilize   72.000000  3.375000e+05  ACTION   \n",
              "1                             Mobilize   72.000000  3.375000e+05  ACTION   \n",
              "2                 Onshore Construction    0.000000  1.665604e+06  ACTION   \n",
              "3                             Mobilize  168.000000  7.000000e+05  ACTION   \n",
              "4     Substation Substructure Assembly    0.000000  0.000000e+00  ACTION   \n",
              "...                                ...         ...           ...     ...   \n",
              "4521                     Pull In Cable    5.500000  5.156250e+04  ACTION   \n",
              "4522                   Terminate Cable    5.500000  5.156250e+04  ACTION   \n",
              "4523                           Transit    8.000000  7.500000e+04  ACTION   \n",
              "4524                             Delay   26.000000  2.437500e+05  ACTION   \n",
              "4525                           Transit    0.695652  6.521739e+03  ACTION   \n",
              "\n",
              "              time                           phase  location  site_depth  \\\n",
              "0         0.000000          ArrayCableInstallation       NaN         NaN   \n",
              "1         0.000000         ExportCableInstallation       NaN         NaN   \n",
              "2         0.000000         ExportCableInstallation  Landfall         NaN   \n",
              "3         0.000000       MooringSystemInstallation       NaN         NaN   \n",
              "4         0.000000  FloatingSubstationInstallation       NaN         NaN   \n",
              "...            ...                             ...       ...         ...   \n",
              "4521  12017.280762         ExportCableInstallation       NaN         NaN   \n",
              "4522  12022.780762         ExportCableInstallation       NaN         NaN   \n",
              "4523  12030.780762         ExportCableInstallation       NaN         NaN   \n",
              "4524  12056.780762         ExportCableInstallation       NaN         NaN   \n",
              "4525  12057.476414         ExportCableInstallation       NaN         NaN   \n",
              "\n",
              "      hub_height               phase_name  max_waveheight  max_windspeed  \\\n",
              "0            NaN                      NaN             NaN            NaN   \n",
              "1            NaN                      NaN             NaN            NaN   \n",
              "2            NaN                      NaN             NaN            NaN   \n",
              "3            NaN                      NaN             NaN            NaN   \n",
              "4            NaN                      NaN             NaN            NaN   \n",
              "...          ...                      ...             ...            ...   \n",
              "4521         NaN  ExportCableInstallation             NaN            NaN   \n",
              "4522         NaN  ExportCableInstallation             NaN            NaN   \n",
              "4523         NaN                      NaN             NaN            NaN   \n",
              "4524         NaN                      NaN             NaN            NaN   \n",
              "4525         NaN                      NaN             NaN            NaN   \n",
              "\n",
              "      transit_speed  num_vessels  num_ahts_vessels  \n",
              "0               NaN          NaN               NaN  \n",
              "1               NaN          NaN               NaN  \n",
              "2               NaN          NaN               NaN  \n",
              "3               NaN          NaN               NaN  \n",
              "4               NaN          NaN               NaN  \n",
              "...             ...          ...               ...  \n",
              "4521            NaN          NaN               NaN  \n",
              "4522            NaN          NaN               NaN  \n",
              "4523            NaN          NaN               NaN  \n",
              "4524            NaN          NaN               NaN  \n",
              "4525            NaN          NaN               NaN  \n",
              "\n",
              "[4526 rows x 17 columns]"
            ]
          },
          "execution_count": 32,
          "metadata": {},
          "output_type": "execute_result"
        }
      ],
      "source": [
        "pd.DataFrame(project.actions)"
      ]
    },
    {
      "cell_type": "code",
      "execution_count": 49,
      "metadata": {},
      "outputs": [
        {
          "name": "stdout",
          "output_type": "stream",
          "text": [
            "Mooring System Design:\n",
            "{'anchor_cost': 190951.03604101657,\n",
            " 'anchor_mass': 50,\n",
            " 'anchor_type': 'Suction Pile',\n",
            " 'line_cost': 1465945.088,\n",
            " 'line_diam': 0.15,\n",
            " 'line_length': 1347.376,\n",
            " 'line_mass': 606.3192,\n",
            " 'mooring_type': 'Catenary',\n",
            " 'num_lines': 4,\n",
            " 'system_cost': 331379224.80820334}\n",
            "\n",
            "Mooring System: $/kW\n",
            "$ 552.3\n",
            "$ 83.49\n"
          ]
        }
      ],
      "source": [
        "print(\"Mooring System Design:\")\n",
        "pprint(project.design_results[\"mooring_system\"])\n",
        "\n",
        "print(\"\\nMooring System: $/kW\")\n",
        "print(\"$\", round(project.capex_breakdown_per_kw['Mooring System'], 2))\n",
        "\n",
        "print(\"$\", round(project.capex_breakdown_per_kw['Mooring System Installation'], 2))"
      ]
    },
    {
      "cell_type": "markdown",
      "metadata": {},
      "source": [
        "### 2. Replace anchor and mooring types "
      ]
    },
    {
      "cell_type": "code",
      "execution_count": 34,
      "metadata": {},
      "outputs": [
        {
          "name": "stderr",
          "output_type": "stream",
          "text": [
            "DeprecationWarning: /Users/nriccobo/GitHub/ORBIT/ORBIT/phases/install/quayside_assembly_tow/moored.py:94\n",
            "support_vessel will be deprecated and replaced with towing_vessels and ahts_vessel in the towing groups.\n",
            "DeprecationWarning: /Users/nriccobo/GitHub/ORBIT/ORBIT/phases/install/quayside_assembly_tow/moored.py:94\n",
            "['towing_vessl_groups]['station_keeping_vessels'] will be deprecated and replaced with ['towing_vessl_groups]['ahts_vessels'].\n"
          ]
        }
      ],
      "source": [
        "semitaut_config = deepcopy(floating_config)\n",
        "semitaut_config['mooring_system_design']['anchor_type'] = 'Drag Embedment'\n",
        "semitaut_config['mooring_system_design']['mooring_type'] = 'Semitaut'\n",
        "\n",
        "project_semitaut = ProjectManager(semitaut_config, weather=weather)\n",
        "project_semitaut.run()"
      ]
    },
    {
      "cell_type": "code",
      "execution_count": 35,
      "metadata": {},
      "outputs": [
        {
          "name": "stdout",
          "output_type": "stream",
          "text": [
            "Installation CapEx:  519 M\n",
            "System CapEx:       1440 M\n",
            "Turbine CapEx:       780 M\n",
            "Soft CapEx:          387 M\n",
            "Total CapEx:        3278 M\n",
            "\n",
            "Installation Time: 41147 h\n"
          ]
        }
      ],
      "source": [
        "print(f\"Installation CapEx:  {project_semitaut.installation_capex/1e6:.0f} M\")\n",
        "print(f\"System CapEx:       {project_semitaut.system_capex/1e6:.0f} M\")\n",
        "print(f\"Turbine CapEx:       {project_semitaut.turbine_capex/1e6:.0f} M\")\n",
        "print(f\"Soft CapEx:          {project_semitaut.soft_capex/1e6:.0f} M\")\n",
        "print(f\"Total CapEx:        {project_semitaut.total_capex/1e6:.0f} M\")\n",
        "\n",
        "print(f\"\\nInstallation Time: {project.installation_time:.0f} h\")"
      ]
    },
    {
      "cell_type": "code",
      "execution_count": 36,
      "metadata": {},
      "outputs": [
        {
          "data": {
            "text/plain": [
              "{'Array System': 94.97179434403438,\n",
              " 'Export System': 432.13532047999996,\n",
              " 'Substructure': 1051.1827276666668,\n",
              " 'Mooring System': 545.7798,\n",
              " 'Offshore Substation': 276.3947698954073,\n",
              " 'Array System Installation': 105.04624474280226,\n",
              " 'Export System Installation': 246.79354615177581,\n",
              " 'Substructure Installation': 208.2509277379141,\n",
              " 'Mooring System Installation': 80.80888508371386,\n",
              " 'Offshore Substation Installation': 11.784658802638255,\n",
              " 'Turbine Installation': 212.89678462709279,\n",
              " 'Turbine': 1300.0,\n",
              " 'Soft': 645.0,\n",
              " 'Project': 252.08333333333334}"
            ]
          },
          "execution_count": 36,
          "metadata": {},
          "output_type": "execute_result"
        }
      ],
      "source": [
        "project_semitaut.capex_breakdown_per_kw"
      ]
    },
    {
      "cell_type": "code",
      "execution_count": 50,
      "metadata": {},
      "outputs": [
        {
          "name": "stdout",
          "output_type": "stream",
          "text": [
            "Mooring System Design:\n",
            "{'anchor_cost': 139426.2,\n",
            " 'anchor_mass': 20,\n",
            " 'anchor_type': 'Drag Embedment',\n",
            " 'line_cost': 1497913.2,\n",
            " 'line_diam': 0.15,\n",
            " 'line_length': 1755.71,\n",
            " 'line_mass': 579.8762530880001,\n",
            " 'mooring_type': 'Semitaut',\n",
            " 'num_lines': 4,\n",
            " 'system_cost': 327467880.0}\n",
            "\n",
            "Mooring System: $/kW\n",
            "$ 545.78\n",
            "$ 80.81\n"
          ]
        }
      ],
      "source": [
        "print(\"Mooring System Design:\")\n",
        "pprint(project_semitaut.design_results[\"mooring_system\"])\n",
        "\n",
        "print(\"\\nMooring System: $/kW\")\n",
        "print(\"$\", round(project_semitaut.capex_breakdown_per_kw['Mooring System'], 2))\n",
        "\n",
        "print(\"$\", round(project_semitaut.capex_breakdown_per_kw['Mooring System Installation'], 2))"
      ]
    }
  ],
  "metadata": {
    "kernelspec": {
      "display_name": "Python 3 (ipykernel)",
      "language": "python",
      "name": "python3"
    },
    "language_info": {
      "codemirror_mode": {
        "name": "ipython",
        "version": 3
      },
      "file_extension": ".py",
      "mimetype": "text/x-python",
      "name": "python",
      "nbconvert_exporter": "python",
      "pygments_lexer": "ipython3",
      "version": "3.10.14"
    }
  },
  "nbformat": 4,
  "nbformat_minor": 4
}
